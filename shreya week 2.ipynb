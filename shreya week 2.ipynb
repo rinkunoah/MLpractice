{
 "cells": [
  {
   "cell_type": "code",
   "execution_count": null,
   "metadata": {},
   "outputs": [],
   "source": [
    "import pandas as pd\n",
    "import numpy as np\n",
    "filepath='C:\\IntelPython3\\projects\\Orange_Telecom_Churn_Data.csv'\n",
    "data= pd.read_csv(filepath)\n",
    "data.head()"
   ]
  },
  {
   "cell_type": "code",
   "execution_count": null,
   "metadata": {},
   "outputs": [],
   "source": [
    "data.head().T\n",
    "#data.drop(columns=['state','area_code','phone_number'],axis=1,inplace=True)\n",
    "data.columns\n",
    "data.head()\n",
    "data"
   ]
  },
  {
   "cell_type": "code",
   "execution_count": null,
   "metadata": {},
   "outputs": [],
   "source": [
    "from sklearn.preprocessing import StandardScaler\n",
    "StdSc= StandardScaler()\n",
    "a=['intl_plan','churned','voice_mail_plan']\n",
    "=[]\n",
    "for i in data.iterrows():\n",
    "    sd = i[1]\n",
    "    \n",
    "    sd=sd.transform(lambda x:1 if x=='yes'or x==True else (0 if x==False or x=='no' else x))\n",
    "    l.append(sd)\n",
    "    \n",
    "    \n",
    "#new_dataframe=pd.Dataframe(sd)\n",
    "#StdSc= StdSc.fit(data)\n",
    "#X_scaled= KNN.transform(data)\n",
    "#X_scaled"
   ]
  },
  {
   "cell_type": "code",
   "execution_count": null,
   "metadata": {},
   "outputs": [],
   "source": []
  },
  {
   "cell_type": "code",
   "execution_count": null,
   "metadata": {},
   "outputs": [],
   "source": []
  },
  {
   "cell_type": "code",
   "execution_count": null,
   "metadata": {},
   "outputs": [],
   "source": []
  }
 ],
 "metadata": {
  "kernelspec": {
   "display_name": "Python 3",
   "language": "python",
   "name": "python3"
  },
  "language_info": {
   "codemirror_mode": {
    "name": "ipython",
    "version": 3
   },
   "file_extension": ".py",
   "mimetype": "text/x-python",
   "name": "python",
   "nbconvert_exporter": "python",
   "pygments_lexer": "ipython3",
   "version": "3.7.6"
  }
 },
 "nbformat": 4,
 "nbformat_minor": 4
}
