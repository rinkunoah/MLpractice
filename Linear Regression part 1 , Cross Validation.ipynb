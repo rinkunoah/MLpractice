{
 "cells": [
  {
   "cell_type": "markdown",
   "metadata": {},
   "source": [
    "## Introduction\n",
    "\n",
    "We will be working with a data set based on [housing prices in Ames, Iowa](https://www.kaggle.com/c/house-prices-advanced-regression-techniques). It was compiled for educational use to be a modernized and expanded alternative to the well-known Boston Housing dataset. This version of the data set has had some missing values filled for convenience.\n",
    "\n",
    "There are an extensive number of features, so they've been described in the table below.\n",
    "\n",
    "### Predictor\n",
    "\n",
    "* SalePrice: The property's sale price in dollars. "
   ]
  },
  {
   "cell_type": "code",
   "execution_count": 1,
   "metadata": {},
   "outputs": [
    {
     "data": {
      "text/plain": [
       "1379"
      ]
     },
     "execution_count": 1,
     "metadata": {},
     "output_type": "execute_result"
    }
   ],
   "source": [
    "import pandas as pd\n",
    "import os\n",
    "import numpy as np\n",
    "\n",
    "# Import the data using the file path\n",
    "data_path = ['C:\\IntelPython3\\projects']\n",
    "filepath = os.sep.join(data_path + ['Ames_Housing_Sales.csv'])\n",
    "data = pd.read_csv(filepath, sep=',')\n",
    "data['Alley'].shape[0]"
   ]
  },
  {
   "cell_type": "markdown",
   "metadata": {},
   "source": [
    "## Question 2\n",
    "\n",
    "As discussed in the lecture, a significant challenge, particularly when dealing with data that have many columns, is ensuring each column gets encoded correctly. \n",
    "\n",
    "This is particularly true with data columns that are ordered categoricals (ordinals) vs unordered categoricals. Unordered categoricals should be one-hot encoded, however this can significantly increase the number of features and creates features that are highly correlated with each other.\n",
    "\n",
    "Determine how many total features would be present, relative to what currently exists, if all string (object) features are one-hot encoded. Recall that the total number of one-hot encoded columns is `n-1`, where `n` is the number of categories."
   ]
  },
  {
   "cell_type": "code",
   "execution_count": 2,
   "metadata": {},
   "outputs": [
    {
     "data": {
      "text/plain": [
       "215"
      ]
     },
     "execution_count": 2,
     "metadata": {},
     "output_type": "execute_result"
    }
   ],
   "source": [
    "d=data.select_dtypes(include=[object])\n",
    "l=d[d.columns].apply(lambda x:x.nunique())\n",
    "l=l.loc[l>1] # values which contains more than 1 value\n",
    "l-=1\n",
    "\n",
    "# relative total features\n",
    "l.sum()\n"
   ]
  },
  {
   "cell_type": "markdown",
   "metadata": {},
   "source": [
    " # Just for understanding clearly"
   ]
  },
  {
   "cell_type": "code",
   "execution_count": 3,
   "metadata": {},
   "outputs": [
    {
     "data": {
      "text/plain": [
       "215"
      ]
     },
     "execution_count": 3,
     "metadata": {},
     "output_type": "execute_result"
    }
   ],
   "source": [
    "p=pd.get_dummies(d)\n",
    "p=pd.DataFrame(p)\n",
    "count=0\n",
    "for i in p.nunique():\n",
    "    if i>1:\n",
    "        count+=1\n",
    "count-d.shape[1]"
   ]
  },
  {
   "cell_type": "markdown",
   "metadata": {},
   "source": [
    "## Question 3\n",
    "\n",
    "Let's create a new data set where all of the above categorical features will be one-hot encoded. We can fit this data and see how it affects the results.\n",
    "\n",
    "* Used the dataframe `.copy()` method to create a completely separate copy of the dataframe for one-hot encoding\n",
    "* On this new dataframe, one-hot encode each of the appropriate columns and add it back to the dataframe. Be sure to drop the original column.\n",
    "* For the data that are not one-hot encoded, drop the columns that are string categoricals.\n",
    "\n",
    "For the first step, numerically encoding the string categoricals, either Scikit-learn;s `LabelEncoder` or `DictVectorizer` can be used. However, the former is probably easier since it doesn't require specifying a numerical value for each category, and we are going to one-hot encode all of the numerical values anyway. (Can you think of a time when `DictVectorizer` might be preferred?)"
   ]
  },
  {
   "cell_type": "code",
   "execution_count": 4,
   "metadata": {},
   "outputs": [],
   "source": [
    "new_dataframe=data.copy()\n"
   ]
  },
  {
   "cell_type": "code",
   "execution_count": 5,
   "metadata": {},
   "outputs": [
    {
     "data": {
      "text/html": [
       "<div>\n",
       "<style scoped>\n",
       "    .dataframe tbody tr th:only-of-type {\n",
       "        vertical-align: middle;\n",
       "    }\n",
       "\n",
       "    .dataframe tbody tr th {\n",
       "        vertical-align: top;\n",
       "    }\n",
       "\n",
       "    .dataframe thead th {\n",
       "        text-align: right;\n",
       "    }\n",
       "</style>\n",
       "<table border=\"1\" class=\"dataframe\">\n",
       "  <thead>\n",
       "    <tr style=\"text-align: right;\">\n",
       "      <th></th>\n",
       "      <th>1stFlrSF</th>\n",
       "      <th>2ndFlrSF</th>\n",
       "      <th>3SsnPorch</th>\n",
       "      <th>BedroomAbvGr</th>\n",
       "      <th>BsmtFinSF1</th>\n",
       "      <th>BsmtFinSF2</th>\n",
       "      <th>BsmtFullBath</th>\n",
       "      <th>BsmtHalfBath</th>\n",
       "      <th>BsmtUnfSF</th>\n",
       "      <th>EnclosedPorch</th>\n",
       "      <th>...</th>\n",
       "      <th>SaleType_3</th>\n",
       "      <th>SaleType_4</th>\n",
       "      <th>SaleType_5</th>\n",
       "      <th>SaleType_6</th>\n",
       "      <th>SaleType_7</th>\n",
       "      <th>SaleType_8</th>\n",
       "      <th>Street_0</th>\n",
       "      <th>Street_1</th>\n",
       "      <th>Utilities_0</th>\n",
       "      <th>Utilities_1</th>\n",
       "    </tr>\n",
       "  </thead>\n",
       "  <tbody>\n",
       "    <tr>\n",
       "      <th>0</th>\n",
       "      <td>856.0</td>\n",
       "      <td>854.0</td>\n",
       "      <td>0.0</td>\n",
       "      <td>3</td>\n",
       "      <td>706.0</td>\n",
       "      <td>0.0</td>\n",
       "      <td>1</td>\n",
       "      <td>0</td>\n",
       "      <td>150.0</td>\n",
       "      <td>0.0</td>\n",
       "      <td>...</td>\n",
       "      <td>0.0</td>\n",
       "      <td>0.0</td>\n",
       "      <td>0.0</td>\n",
       "      <td>0.0</td>\n",
       "      <td>0.0</td>\n",
       "      <td>1.0</td>\n",
       "      <td>0.0</td>\n",
       "      <td>1.0</td>\n",
       "      <td>1.0</td>\n",
       "      <td>0.0</td>\n",
       "    </tr>\n",
       "    <tr>\n",
       "      <th>1</th>\n",
       "      <td>1262.0</td>\n",
       "      <td>0.0</td>\n",
       "      <td>0.0</td>\n",
       "      <td>3</td>\n",
       "      <td>978.0</td>\n",
       "      <td>0.0</td>\n",
       "      <td>0</td>\n",
       "      <td>1</td>\n",
       "      <td>284.0</td>\n",
       "      <td>0.0</td>\n",
       "      <td>...</td>\n",
       "      <td>0.0</td>\n",
       "      <td>0.0</td>\n",
       "      <td>0.0</td>\n",
       "      <td>0.0</td>\n",
       "      <td>0.0</td>\n",
       "      <td>1.0</td>\n",
       "      <td>0.0</td>\n",
       "      <td>1.0</td>\n",
       "      <td>1.0</td>\n",
       "      <td>0.0</td>\n",
       "    </tr>\n",
       "    <tr>\n",
       "      <th>2</th>\n",
       "      <td>920.0</td>\n",
       "      <td>866.0</td>\n",
       "      <td>0.0</td>\n",
       "      <td>3</td>\n",
       "      <td>486.0</td>\n",
       "      <td>0.0</td>\n",
       "      <td>1</td>\n",
       "      <td>0</td>\n",
       "      <td>434.0</td>\n",
       "      <td>0.0</td>\n",
       "      <td>...</td>\n",
       "      <td>0.0</td>\n",
       "      <td>0.0</td>\n",
       "      <td>0.0</td>\n",
       "      <td>0.0</td>\n",
       "      <td>0.0</td>\n",
       "      <td>1.0</td>\n",
       "      <td>0.0</td>\n",
       "      <td>1.0</td>\n",
       "      <td>1.0</td>\n",
       "      <td>0.0</td>\n",
       "    </tr>\n",
       "    <tr>\n",
       "      <th>3</th>\n",
       "      <td>961.0</td>\n",
       "      <td>756.0</td>\n",
       "      <td>0.0</td>\n",
       "      <td>3</td>\n",
       "      <td>216.0</td>\n",
       "      <td>0.0</td>\n",
       "      <td>1</td>\n",
       "      <td>0</td>\n",
       "      <td>540.0</td>\n",
       "      <td>272.0</td>\n",
       "      <td>...</td>\n",
       "      <td>0.0</td>\n",
       "      <td>0.0</td>\n",
       "      <td>0.0</td>\n",
       "      <td>0.0</td>\n",
       "      <td>0.0</td>\n",
       "      <td>1.0</td>\n",
       "      <td>0.0</td>\n",
       "      <td>1.0</td>\n",
       "      <td>1.0</td>\n",
       "      <td>0.0</td>\n",
       "    </tr>\n",
       "    <tr>\n",
       "      <th>4</th>\n",
       "      <td>1145.0</td>\n",
       "      <td>1053.0</td>\n",
       "      <td>0.0</td>\n",
       "      <td>4</td>\n",
       "      <td>655.0</td>\n",
       "      <td>0.0</td>\n",
       "      <td>1</td>\n",
       "      <td>0</td>\n",
       "      <td>490.0</td>\n",
       "      <td>0.0</td>\n",
       "      <td>...</td>\n",
       "      <td>0.0</td>\n",
       "      <td>0.0</td>\n",
       "      <td>0.0</td>\n",
       "      <td>0.0</td>\n",
       "      <td>0.0</td>\n",
       "      <td>1.0</td>\n",
       "      <td>0.0</td>\n",
       "      <td>1.0</td>\n",
       "      <td>1.0</td>\n",
       "      <td>0.0</td>\n",
       "    </tr>\n",
       "    <tr>\n",
       "      <th>...</th>\n",
       "      <td>...</td>\n",
       "      <td>...</td>\n",
       "      <td>...</td>\n",
       "      <td>...</td>\n",
       "      <td>...</td>\n",
       "      <td>...</td>\n",
       "      <td>...</td>\n",
       "      <td>...</td>\n",
       "      <td>...</td>\n",
       "      <td>...</td>\n",
       "      <td>...</td>\n",
       "      <td>...</td>\n",
       "      <td>...</td>\n",
       "      <td>...</td>\n",
       "      <td>...</td>\n",
       "      <td>...</td>\n",
       "      <td>...</td>\n",
       "      <td>...</td>\n",
       "      <td>...</td>\n",
       "      <td>...</td>\n",
       "      <td>...</td>\n",
       "    </tr>\n",
       "    <tr>\n",
       "      <th>1374</th>\n",
       "      <td>953.0</td>\n",
       "      <td>694.0</td>\n",
       "      <td>0.0</td>\n",
       "      <td>3</td>\n",
       "      <td>0.0</td>\n",
       "      <td>0.0</td>\n",
       "      <td>0</td>\n",
       "      <td>0</td>\n",
       "      <td>953.0</td>\n",
       "      <td>0.0</td>\n",
       "      <td>...</td>\n",
       "      <td>0.0</td>\n",
       "      <td>0.0</td>\n",
       "      <td>0.0</td>\n",
       "      <td>0.0</td>\n",
       "      <td>0.0</td>\n",
       "      <td>1.0</td>\n",
       "      <td>0.0</td>\n",
       "      <td>1.0</td>\n",
       "      <td>1.0</td>\n",
       "      <td>0.0</td>\n",
       "    </tr>\n",
       "    <tr>\n",
       "      <th>1375</th>\n",
       "      <td>2073.0</td>\n",
       "      <td>0.0</td>\n",
       "      <td>0.0</td>\n",
       "      <td>3</td>\n",
       "      <td>790.0</td>\n",
       "      <td>163.0</td>\n",
       "      <td>1</td>\n",
       "      <td>0</td>\n",
       "      <td>589.0</td>\n",
       "      <td>0.0</td>\n",
       "      <td>...</td>\n",
       "      <td>0.0</td>\n",
       "      <td>0.0</td>\n",
       "      <td>0.0</td>\n",
       "      <td>0.0</td>\n",
       "      <td>0.0</td>\n",
       "      <td>1.0</td>\n",
       "      <td>0.0</td>\n",
       "      <td>1.0</td>\n",
       "      <td>1.0</td>\n",
       "      <td>0.0</td>\n",
       "    </tr>\n",
       "    <tr>\n",
       "      <th>1376</th>\n",
       "      <td>1188.0</td>\n",
       "      <td>1152.0</td>\n",
       "      <td>0.0</td>\n",
       "      <td>4</td>\n",
       "      <td>275.0</td>\n",
       "      <td>0.0</td>\n",
       "      <td>0</td>\n",
       "      <td>0</td>\n",
       "      <td>877.0</td>\n",
       "      <td>0.0</td>\n",
       "      <td>...</td>\n",
       "      <td>0.0</td>\n",
       "      <td>0.0</td>\n",
       "      <td>0.0</td>\n",
       "      <td>0.0</td>\n",
       "      <td>0.0</td>\n",
       "      <td>1.0</td>\n",
       "      <td>0.0</td>\n",
       "      <td>1.0</td>\n",
       "      <td>1.0</td>\n",
       "      <td>0.0</td>\n",
       "    </tr>\n",
       "    <tr>\n",
       "      <th>1377</th>\n",
       "      <td>1078.0</td>\n",
       "      <td>0.0</td>\n",
       "      <td>0.0</td>\n",
       "      <td>2</td>\n",
       "      <td>49.0</td>\n",
       "      <td>1029.0</td>\n",
       "      <td>1</td>\n",
       "      <td>0</td>\n",
       "      <td>0.0</td>\n",
       "      <td>112.0</td>\n",
       "      <td>...</td>\n",
       "      <td>0.0</td>\n",
       "      <td>0.0</td>\n",
       "      <td>0.0</td>\n",
       "      <td>0.0</td>\n",
       "      <td>0.0</td>\n",
       "      <td>1.0</td>\n",
       "      <td>0.0</td>\n",
       "      <td>1.0</td>\n",
       "      <td>1.0</td>\n",
       "      <td>0.0</td>\n",
       "    </tr>\n",
       "    <tr>\n",
       "      <th>1378</th>\n",
       "      <td>1256.0</td>\n",
       "      <td>0.0</td>\n",
       "      <td>0.0</td>\n",
       "      <td>3</td>\n",
       "      <td>830.0</td>\n",
       "      <td>290.0</td>\n",
       "      <td>1</td>\n",
       "      <td>0</td>\n",
       "      <td>136.0</td>\n",
       "      <td>0.0</td>\n",
       "      <td>...</td>\n",
       "      <td>0.0</td>\n",
       "      <td>0.0</td>\n",
       "      <td>0.0</td>\n",
       "      <td>0.0</td>\n",
       "      <td>0.0</td>\n",
       "      <td>1.0</td>\n",
       "      <td>0.0</td>\n",
       "      <td>1.0</td>\n",
       "      <td>1.0</td>\n",
       "      <td>0.0</td>\n",
       "    </tr>\n",
       "  </tbody>\n",
       "</table>\n",
       "<p>1379 rows × 295 columns</p>\n",
       "</div>"
      ],
      "text/plain": [
       "      1stFlrSF  2ndFlrSF  3SsnPorch  BedroomAbvGr  BsmtFinSF1  BsmtFinSF2  \\\n",
       "0        856.0     854.0        0.0             3       706.0         0.0   \n",
       "1       1262.0       0.0        0.0             3       978.0         0.0   \n",
       "2        920.0     866.0        0.0             3       486.0         0.0   \n",
       "3        961.0     756.0        0.0             3       216.0         0.0   \n",
       "4       1145.0    1053.0        0.0             4       655.0         0.0   \n",
       "...        ...       ...        ...           ...         ...         ...   \n",
       "1374     953.0     694.0        0.0             3         0.0         0.0   \n",
       "1375    2073.0       0.0        0.0             3       790.0       163.0   \n",
       "1376    1188.0    1152.0        0.0             4       275.0         0.0   \n",
       "1377    1078.0       0.0        0.0             2        49.0      1029.0   \n",
       "1378    1256.0       0.0        0.0             3       830.0       290.0   \n",
       "\n",
       "      BsmtFullBath  BsmtHalfBath  BsmtUnfSF  EnclosedPorch  ...  SaleType_3  \\\n",
       "0                1             0      150.0            0.0  ...         0.0   \n",
       "1                0             1      284.0            0.0  ...         0.0   \n",
       "2                1             0      434.0            0.0  ...         0.0   \n",
       "3                1             0      540.0          272.0  ...         0.0   \n",
       "4                1             0      490.0            0.0  ...         0.0   \n",
       "...            ...           ...        ...            ...  ...         ...   \n",
       "1374             0             0      953.0            0.0  ...         0.0   \n",
       "1375             1             0      589.0            0.0  ...         0.0   \n",
       "1376             0             0      877.0            0.0  ...         0.0   \n",
       "1377             1             0        0.0          112.0  ...         0.0   \n",
       "1378             1             0      136.0            0.0  ...         0.0   \n",
       "\n",
       "      SaleType_4  SaleType_5  SaleType_6  SaleType_7  SaleType_8  Street_0  \\\n",
       "0            0.0         0.0         0.0         0.0         1.0       0.0   \n",
       "1            0.0         0.0         0.0         0.0         1.0       0.0   \n",
       "2            0.0         0.0         0.0         0.0         1.0       0.0   \n",
       "3            0.0         0.0         0.0         0.0         1.0       0.0   \n",
       "4            0.0         0.0         0.0         0.0         1.0       0.0   \n",
       "...          ...         ...         ...         ...         ...       ...   \n",
       "1374         0.0         0.0         0.0         0.0         1.0       0.0   \n",
       "1375         0.0         0.0         0.0         0.0         1.0       0.0   \n",
       "1376         0.0         0.0         0.0         0.0         1.0       0.0   \n",
       "1377         0.0         0.0         0.0         0.0         1.0       0.0   \n",
       "1378         0.0         0.0         0.0         0.0         1.0       0.0   \n",
       "\n",
       "      Street_1  Utilities_0  Utilities_1  \n",
       "0          1.0          1.0          0.0  \n",
       "1          1.0          1.0          0.0  \n",
       "2          1.0          1.0          0.0  \n",
       "3          1.0          1.0          0.0  \n",
       "4          1.0          1.0          0.0  \n",
       "...        ...          ...          ...  \n",
       "1374       1.0          1.0          0.0  \n",
       "1375       1.0          1.0          0.0  \n",
       "1376       1.0          1.0          0.0  \n",
       "1377       1.0          1.0          0.0  \n",
       "1378       1.0          1.0          0.0  \n",
       "\n",
       "[1379 rows x 295 columns]"
      ]
     },
     "execution_count": 5,
     "metadata": {},
     "output_type": "execute_result"
    }
   ],
   "source": [
    "from sklearn import preprocessing\n",
    "from sklearn.preprocessing import OneHotEncoder\n",
    "lenc = preprocessing.LabelEncoder()\n",
    "onehc=OneHotEncoder()\n",
    "l=onehc.fit_transform([[4],[1],[0]])\n",
    "dataf=data.drop(columns=d.columns)\n",
    "for i in d.columns:\n",
    "    temp_series=lenc.fit_transform(new_dataframe[i])\n",
    "    col_names=[i+'_'+str(j) for j in list(set(temp_series))]\n",
    "    onecode=onehc.fit_transform(temp_series.reshape(-1,1))\n",
    "    new_Data=pd.DataFrame(onecode.toarray(),columns=col_names)\n",
    "    \n",
    "    dataf = pd.concat([dataf,new_Data], axis=1)\n",
    "f=l.toarray()\n",
    "dataf"
   ]
  },
  {
   "cell_type": "code",
   "execution_count": 6,
   "metadata": {},
   "outputs": [],
   "source": [
    "data=data.drop(columns=d.columns)"
   ]
  },
  {
   "cell_type": "markdown",
   "metadata": {},
   "source": [
    "## Question 4\n",
    "\n",
    "* Create train and test splits of both data sets. To ensure the data gets split the same way, use the same `random_state` in each of the two splits.\n",
    "* For each data set, fit a basic linear regression model on the training data. \n",
    "* Calculate the mean squared error on both the train and test sets for the respective models. Which model produces smaller error on the test data and why?"
   ]
  },
  {
   "cell_type": "markdown",
   "metadata": {},
   "source": [
    "**This is train and test splits of non encoded data i.e dataf**"
   ]
  },
  {
   "cell_type": "code",
   "execution_count": 7,
   "metadata": {},
   "outputs": [],
   "source": [
    "from sklearn.model_selection import train_test_split\n",
    "from sklearn.linear_model import LinearRegression\n",
    "from sklearn.metrics import mean_squared_error\n",
    "# non encoded\n",
    "\n",
    "X1=[i for i in data.columns if i!='SalePrice']\n",
    "X_data1=data[X1]\n",
    "Y_data1=data['SalePrice']\n",
    "X_train1,X_test1,Y_train1,Y_test1 = train_test_split(X_data1,Y_data1, test_size=0.3,random_state=42)\n",
    "\n",
    "\n",
    "\n",
    "# one hot encoded\n",
    "X2=[i for i in dataf.columns if i!='SalePrice']\n",
    "X_data2=dataf[X2]\n",
    "Y_data2=dataf['SalePrice']\n",
    "X_train2,X_test2,Y_train2,Y_test2 = train_test_split(X_data2,Y_data2, test_size=0.3,random_state=42)\n"
   ]
  },
  {
   "cell_type": "code",
   "execution_count": 8,
   "metadata": {},
   "outputs": [
    {
     "data": {
      "text/plain": [
       "(1372182358.9347906, 1131506565.4773366)"
      ]
     },
     "execution_count": 8,
     "metadata": {},
     "output_type": "execute_result"
    }
   ],
   "source": [
    "\n",
    "LR= LinearRegression()\n",
    "LR= LR.fit(X_train1, Y_train1)\n",
    "Y_predict= LR.predict(X_test1)\n",
    "Y_predictwithtrain=LR.predict(X_train1)\n",
    "\n",
    "Y_testmeanerror=mean_squared_error(Y_test1,Y_predict)\n",
    "Y_trainmeanerror=mean_squared_error(Y_train1,Y_predictwithtrain)\n",
    "min(Y_testmeanerror,Y_trainmeanerror)\n",
    "Y_testmeanerror,Y_trainmeanerror\n"
   ]
  },
  {
   "cell_type": "markdown",
   "metadata": {},
   "source": [
    "**This is train and test splits for onehotencoded data i.e data**"
   ]
  },
  {
   "cell_type": "code",
   "execution_count": 9,
   "metadata": {},
   "outputs": [
    {
     "data": {
      "text/plain": [
       "(array([ 3.35758551e+05,  1.30736714e+05,  7.73023343e+04,  2.13609613e+05,\n",
       "         1.87047686e+05,  6.94689387e+04,  2.17695790e+05,  2.01985690e+05,\n",
       "         7.22783776e+09,  2.12325443e+05,  1.00944320e+05,  3.10957866e+05,\n",
       "         1.05450788e+05,  3.47064129e+05,  1.58032835e+05,  1.43650488e+05,\n",
       "         2.30878605e+05,  1.44315527e+05,  2.23630720e+05,  2.81746744e+05,\n",
       "         1.21992763e+05,  1.49071213e+05,  1.46632044e+05,  2.48572537e+05,\n",
       "         4.31426508e+05, -1.10464990e+10,  1.40564576e+05,  1.12331199e+05,\n",
       "         3.25500444e+05,  1.47257833e+05,  2.54761790e+05,  1.69905348e+05,\n",
       "         1.94242470e+05,  1.20640384e+05,  2.17118395e+05,  4.36901973e+05,\n",
       "         9.29419691e+04,  1.10301303e+05,  2.26933255e+05,  1.83385978e+05,\n",
       "         1.56874382e+05,  1.30049312e+05,  1.75766300e+05,  4.25341555e+05,\n",
       "         1.57067354e+05,  2.71939610e+05,  9.12936197e+04,  2.65215389e+05,\n",
       "         1.08971069e+05,  3.37976911e+05,  1.52268764e+05,  3.10577139e+04,\n",
       "         1.21055191e+05,  1.45947891e+05,  2.04593850e+05,  1.12460649e+05,\n",
       "         1.26754164e+05,  1.88047167e+05,  1.38776280e+05,  3.29518382e+05,\n",
       "         5.99410102e+04,  1.64569019e+05,  1.71379504e+05,  3.15525866e+05,\n",
       "        -2.31567339e+10,  3.56967638e+05,  1.76566204e+05,  1.16147296e+05,\n",
       "         1.82794177e+05,  1.88554406e+05,  1.24059128e+05,  3.14681483e+05,\n",
       "         1.03128606e+05,  1.17656963e+05,  1.07732557e+05,  1.29276430e+05,\n",
       "         9.16066222e+04,  1.56574021e+05,  2.80192391e+05,  1.11615602e+05,\n",
       "         3.30243483e+05,  2.12731632e+05,  2.60970148e+05,  2.08833989e+05,\n",
       "         1.16347947e+05,  2.61482544e+05,  1.47207681e+05,  1.39147988e+05,\n",
       "         1.52617654e+05,  2.56626991e+05,  2.36632824e+05,  2.92500131e+05,\n",
       "         1.67529541e+05,  1.87421722e+05,  1.38430467e+05,  2.01342560e+05,\n",
       "         2.22275451e+05,  2.01489439e+05,  3.16334856e+05,  2.40637631e+05,\n",
       "         1.36302451e+05,  1.12762334e+05,  1.62001213e+05,  1.95366122e+05,\n",
       "         1.48905958e+05,  1.65459240e+05,  1.93812851e+05,  1.13328509e+05,\n",
       "         1.53226715e+05,  1.45754646e+05,  1.44924827e+05,  1.20420828e+05,\n",
       "         3.56354013e+05,  2.69223842e+05,  3.38876664e+05,  9.90693589e+08,\n",
       "         1.26347388e+05,  2.59353190e+05,  1.46307689e+05,  1.77504632e+05,\n",
       "         1.80523125e+05,  1.31789767e+05,  1.15260936e+05,  1.83228029e+05,\n",
       "         1.42740472e+05,  1.92546484e+05,  1.35694980e+05,  2.70816428e+05,\n",
       "         1.63202753e+05,  1.25584046e+05,  3.54956990e+05,  1.78411806e+05,\n",
       "         1.40515770e+05,  1.37075674e+05,  3.16562858e+05,  1.56885469e+05,\n",
       "         2.96127973e+05,  1.42262552e+05,  8.79018631e+04,  2.29718065e+05,\n",
       "         1.46082492e+05,  1.55426445e+05,  1.65935287e+05,  2.58874206e+05,\n",
       "         1.33382321e+05,  1.44797586e+05,  2.50188816e+05,  3.11795167e+05,\n",
       "         1.31221054e+05,  1.98623410e+05,  1.62162752e+05,  1.71690409e+05,\n",
       "         1.14858792e+05,  9.90820548e+08,  3.56112132e+05,  8.75407914e+04,\n",
       "         2.52150923e+05,  3.61542106e+04,  1.45860054e+05,  3.47325944e+10,\n",
       "         2.16365500e+05, -6.82466808e+09,  1.67485781e+05,  2.24768639e+05,\n",
       "         1.48634510e+05,  1.02706653e+05,  1.71638322e+05,  3.40274524e+05,\n",
       "         3.09935415e+09,  9.78287945e+04,  1.30552824e+05,  1.25920292e+05,\n",
       "         1.25436463e+05,  1.47614876e+05,  1.80704597e+05,  3.24370424e+05,\n",
       "         1.93992432e+05,  1.53592744e+05,  1.57927596e+05,  2.27460157e+05,\n",
       "         1.67745804e+05,  2.44078902e+05,  3.33471873e+05,  1.15990062e+05,\n",
       "         1.58663150e+05,  1.70171831e+05,  1.53934965e+05,  2.83419414e+05,\n",
       "         2.12847449e+05,  1.36894780e+05,  3.12589028e+10,  1.34084514e+05,\n",
       "         2.49985663e+05,  1.40316353e+05,  9.48745328e+04,  1.41075234e+05,\n",
       "         1.43564924e+05,  4.43378230e+05,  4.03716837e+05,  3.22609325e+05,\n",
       "         2.73965616e+05,  3.06934072e+05,  3.86805211e+05,  3.08646568e+05,\n",
       "         1.78315288e+05,  1.15675253e+05,  1.55446294e+05,  5.44453139e+08,\n",
       "         1.88568874e+05,  1.57260040e+05,  1.05003068e+05,  8.97938892e+04,\n",
       "         1.25602386e+05,  3.35752637e+05,  3.94167751e+05,  2.24892821e+05,\n",
       "         1.42597983e+05,  1.88501610e+05,  1.48319585e+05,  2.44791767e+05,\n",
       "         1.25913959e+05,  1.13939657e+05,  2.91359582e+05,  1.70155012e+09,\n",
       "         1.85784419e+05,  5.91494940e+05,  1.79342600e+05,  1.31789124e+05,\n",
       "         2.13598555e+05,  2.08563371e+09,  1.72666416e+05,  3.82006378e+05,\n",
       "         1.17507217e+05,  2.12640652e+05,  1.26405171e+05,  8.96597298e+04,\n",
       "         1.81433682e+05,  2.55888927e+05,  1.16206098e+05,  1.72637309e+05,\n",
       "         1.80486023e+05,  1.46294638e+05,  1.55161849e+05,  2.87162845e+05,\n",
       "         1.73228646e+05,  4.04679870e+05,  1.29233687e+05,  1.32235099e+05,\n",
       "         2.17813654e+05,  1.55772462e+05,  1.19074625e+05,  1.61069852e+05,\n",
       "         1.91747756e+05,  2.00492223e+05,  1.19621761e+05,  3.05847835e+04,\n",
       "         2.23820380e+05,  1.59695266e+05,  9.62393700e+04,  8.20756913e+04,\n",
       "         2.10957912e+05,  1.87801710e+05,  2.46220049e+05,  3.15558030e+05,\n",
       "         1.21488862e+05,  1.95637436e+05,  1.63472606e+05,  1.85088090e+05,\n",
       "         1.49222505e+05,  2.31532779e+05,  1.08037175e+05,  1.56284339e+05,\n",
       "         1.90372740e+05,  2.00313362e+05,  1.85710165e+05,  3.12588453e+10,\n",
       "         3.62139331e+08,  1.36654973e+05,  1.28280097e+05,  2.53089652e+05,\n",
       "         1.65230969e+05,  3.26180672e+05,  2.01475407e+05,  6.62241594e+04,\n",
       "         1.85037496e+05,  1.09962984e+05,  1.70688126e+05,  1.25210342e+05,\n",
       "         1.92218636e+05,  1.83516460e+05,  1.77183750e+05,  1.38967673e+05,\n",
       "         1.38388108e+05,  2.05652000e+05,  1.31006373e+05,  1.75402904e+05,\n",
       "         2.39288592e+05,  2.15989512e+05,  1.17380592e+05,  1.29655384e+05,\n",
       "         2.27441719e+05,  1.00418957e+05,  2.39578169e+05,  9.05111297e+04,\n",
       "         2.17361183e+05,  1.36534828e+05,  1.29180603e+05,  9.90797773e+08,\n",
       "         7.61760603e+04,  9.01703713e+04,  1.06696747e+05,  3.64193075e+05,\n",
       "         3.63223932e+08,  2.02320892e+05,  2.14630209e+05,  9.69041424e+04,\n",
       "         1.22499531e+05,  1.23007624e+05,  3.47329018e+10,  1.43637926e+05,\n",
       "         1.35940224e+05,  2.91053914e+05,  2.18730674e+05,  2.22039957e+05,\n",
       "         1.95927642e+05,  1.20163492e+05,  8.74437570e+04,  2.06859374e+05,\n",
       "         2.05169328e+05,  1.35069198e+05,  1.43791627e+05,  1.74918460e+05,\n",
       "         6.18481009e+04,  1.67634561e+05,  1.06183191e+05,  1.84319339e+05,\n",
       "         1.63374209e+05,  1.34506955e+05,  1.53484853e+05,  1.72337486e+05,\n",
       "         2.04830689e+05,  1.16832156e+05,  1.65485015e+05,  2.24564260e+05,\n",
       "         2.30543419e+05,  1.43305424e+05,  2.80852706e+05,  1.50812952e+05,\n",
       "        -3.47320887e+10,  1.94117881e+05,  1.59486808e+05,  1.78950999e+05,\n",
       "         1.58140264e+05,  1.43767058e+05,  1.42068228e+05,  1.29358049e+05,\n",
       "         1.18953315e+05,  8.01970919e+04,  9.48007044e+04,  2.07534808e+05,\n",
       "         1.15872068e+05,  1.33150079e+05,  1.58497430e+05,  8.04893602e+04,\n",
       "         2.40966459e+05,  1.88199266e+05,  2.83442115e+05,  3.89140608e+05,\n",
       "         1.27898620e+05,  1.27139898e+05,  1.34374646e+05,  1.30245427e+05,\n",
       "         7.27853734e+04,  2.70925699e+05,  2.14020731e+05,  2.12879919e+05,\n",
       "         1.17496806e+05,  1.36056576e+05,  1.21157433e+05,  1.23936877e+05,\n",
       "         2.31436847e+05,  1.98974298e+05,  1.20480261e+05,  2.92066297e+05,\n",
       "         7.87271756e+04,  1.73063013e+05,  2.22219163e+05,  1.34556415e+05,\n",
       "         2.00786360e+05,  1.56227839e+05,  2.88349360e+05,  1.32088825e+05,\n",
       "         1.63826426e+05,  3.15457355e+05,  3.99027849e+05,  3.88390318e+05,\n",
       "         1.23329727e+05,  1.82824031e+05, -1.16431213e+10,  2.33293112e+05,\n",
       "         1.28165122e+05,  2.86310487e+05,  1.65135752e+05,  1.67086783e+05,\n",
       "         1.33456728e+05,  2.52261100e+04,  1.66301578e+05,  1.99402892e+05,\n",
       "         1.66394069e+05,  6.05618269e+04,  1.03434916e+05,  1.92898973e+05,\n",
       "         1.43686095e+05,  1.48612514e+05]),\n",
       " 599     274000.0\n",
       " 881     117500.0\n",
       " 634      87000.0\n",
       " 425     204000.0\n",
       " 906     185000.0\n",
       "           ...   \n",
       " 942      91000.0\n",
       " 59      101000.0\n",
       " 405     175000.0\n",
       " 458     156000.0\n",
       " 1300    117000.0\n",
       " Name: SalePrice, Length: 414, dtype: float64)"
      ]
     },
     "execution_count": 9,
     "metadata": {},
     "output_type": "execute_result"
    }
   ],
   "source": [
    "\n",
    "LR=LR.fit(X_train2,Y_train2)\n",
    "Y_predict2=LR.predict(X_test2)\n",
    "Y_predict1=LR.predict(X_train2)\n",
    "Y_predict2,Y_test2"
   ]
  },
  {
   "cell_type": "code",
   "execution_count": 10,
   "metadata": {},
   "outputs": [
    {
     "data": {
      "text/plain": [
       "1.5667210893373309e+19"
      ]
     },
     "execution_count": 10,
     "metadata": {},
     "output_type": "execute_result"
    }
   ],
   "source": [
    "Y_testmeanerror2=mean_squared_error(Y_test2,Y_predict2)\n",
    "Y_trainmeanerror1=mean_squared_error(Y_train2,Y_predict1)\n",
    "Y_testmeanerror2"
   ]
  },
  {
   "cell_type": "markdown",
   "metadata": {},
   "source": [
    "# Output\n",
    "* mean squared error for one hot encoding data is smaller than mean squared error for non encoded data"
   ]
  },
  {
   "cell_type": "markdown",
   "metadata": {},
   "source": [
    "## Answer 5\n",
    "\n",
    "For each of the data sets (one-hot encoded and not encoded):\n",
    "\n",
    "* Scale the all the non-hot encoded values using one of the following: `StandardScaler`, `MinMaxScaler`, `MaxAbsScaler`.\n",
    "* Compare the error calculated on the test sets\n",
    "\n",
    "Be sure to calculate the skew (to decide if a transformation should be done) and fit the scaler on *ONLY* the training data, but then apply it to both the train and test data identically."
   ]
  },
  {
   "cell_type": "markdown",
   "metadata": {},
   "source": [
    "**For non encoded data**"
   ]
  },
  {
   "cell_type": "code",
   "execution_count": 11,
   "metadata": {},
   "outputs": [
    {
     "name": "stdout",
     "output_type": "stream",
     "text": [
      "1.535573621477147e+16\n",
      "2.7194722370262615e+18\n",
      "1.614616285556998e+19\n",
      "2.678908979794741e+37\n",
      "8.921975428651329e+18\n",
      "8.533841762171166e+18\n"
     ]
    }
   ],
   "source": [
    "from sklearn.preprocessing import StandardScaler,MinMaxScaler, MaxAbsScaler\n",
    "from sklearn.model_selection import train_test_split\n",
    "\n",
    "sd=StandardScaler()\n",
    "minmax=MinMaxScaler()\n",
    "maxabs=MaxAbsScaler()\n",
    "def scale(xtrain,xtest,ytrain,ytest,scaler):\n",
    "\n",
    "    \n",
    "    x1=scaler.fit_transform(xtrain)\n",
    "    LR = LinearRegression()\n",
    "    LR=LR.fit(x1,ytrain)\n",
    "    Y_predict2=LR.predict(xtest)\n",
    "    ytestmeanerror=mean_squared_error(ytest,Y_predict2)\n",
    "    return ytestmeanerror\n",
    "# X=data.select_dtypes(include=[float])\n",
    "# p=[i for i in X.columns if i!='SalePrice']\n",
    "# #non encoded\n",
    "# Xdata=X[p]\n",
    "# Ydata=X['SalePrice']\n",
    "# X_train1,X_test1,Y_train1,Y_test1 = train_test_split(Xdata,Ydata, test_size=0.3,random_state=42)\n",
    "\n",
    "\n",
    "print(scale(X_train1,X_test1,Y_train1,Y_test1,sd))\n",
    "print(scale(X_train1,X_test1,Y_train1,Y_test1,minmax))\n",
    "print(scale(X_train1,X_test1,Y_train1,Y_test1,maxabs))\n",
    "print(scale(X_train2,X_test2,Y_train2,Y_test2,sd))\n",
    "print(scale(X_train2,X_test2,Y_train2,Y_test2,minmax))\n",
    "print(scale(X_train2,X_test2,Y_train2,Y_test2,maxabs))"
   ]
  },
  {
   "cell_type": "markdown",
   "metadata": {},
   "source": [
    "# Answer 6\n",
    "* Plot predictions vs actual for one of the models."
   ]
  },
  {
   "cell_type": "markdown",
   "metadata": {},
   "source": [
    "# plot for one hot encoded data"
   ]
  },
  {
   "cell_type": "code",
   "execution_count": 12,
   "metadata": {},
   "outputs": [
    {
     "data": {
      "text/plain": [
       "599     274000.0\n",
       "881     117500.0\n",
       "634      87000.0\n",
       "425     204000.0\n",
       "906     185000.0\n",
       "          ...   \n",
       "942      91000.0\n",
       "59      101000.0\n",
       "405     175000.0\n",
       "458     156000.0\n",
       "1300    117000.0\n",
       "Name: SalePrice, Length: 414, dtype: float64"
      ]
     },
     "execution_count": 12,
     "metadata": {},
     "output_type": "execute_result"
    },
    {
     "data": {
      "image/png": "[encoded data removed]",
      "text/plain": [
       "<Figure size 432x288 with 1 Axes>"
      ]
     },
     "metadata": {},
     "output_type": "display_data"
    }
   ],
   "source": [
    "import matplotlib.pyplot as plt\n",
    "import seaborn as sns\n",
    "\n",
    "%matplotlib inline\n",
    "sns.set_context('talk')\n",
    "sns.set_style('ticks')\n",
    "sns.set_palette('dark')\n",
    "a=plt.axes()\n",
    "a.scatter(Y_test2,Y_predict2,alpha=.5)\n",
    "a.set(xlabel='Ytest data',ylabel='predict',title='One hot-encoded plot')\n",
    "Y_test2"
   ]
  },
  {
   "cell_type": "markdown",
   "metadata": {},
   "source": [
    "# plot for non encoded data"
   ]
  },
  {
   "cell_type": "code",
   "execution_count": null,
   "metadata": {},
   "outputs": [],
   "source": [
    "\n",
    "p=plt.axes()\n",
    "sns.set_context('talk')\n",
    "sns.set_style('ticks')\n",
    "sns.set_palette('dark')\n",
    "p.scatter(Y_test1,Y_predict,alpha=.5)\n",
    "p.set(xlabel='Ytest data',ylabel='predict',title='Non-encoded plot')"
   ]
  },
  {
   "cell_type": "code",
   "execution_count": null,
   "metadata": {},
   "outputs": [],
   "source": []
  },
  {
   "cell_type": "code",
   "execution_count": null,
   "metadata": {},
   "outputs": [],
   "source": []
  },
  {
   "cell_type": "code",
   "execution_count": null,
   "metadata": {},
   "outputs": [],
   "source": []
  },
  {
   "cell_type": "code",
   "execution_count": null,
   "metadata": {},
   "outputs": [],
   "source": [
    "\n"
   ]
  },
  {
   "cell_type": "code",
   "execution_count": null,
   "metadata": {},
   "outputs": [],
   "source": []
  },
  {
   "cell_type": "code",
   "execution_count": null,
   "metadata": {},
   "outputs": [],
   "source": []
  }
 ],
 "metadata": {
  "kernelspec": {
   "display_name": "Python 3",
   "language": "python",
   "name": "python3"
  },
  "language_info": {
   "codemirror_mode": {
    "name": "ipython",
    "version": 3
   },
   "file_extension": ".py",
   "mimetype": "text/x-python",
   "name": "python",
   "nbconvert_exporter": "python",
   "pygments_lexer": "ipython3",
   "version": "3.7.6"
  }
 },
 "nbformat": 4,
 "nbformat_minor": 4
}
