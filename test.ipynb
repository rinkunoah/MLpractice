{
 "cells": [
  {
   "cell_type": "code",
   "execution_count": 2,
   "metadata": {},
   "outputs": [],
   "source": [
    "import pandas as pd\n",
    "import os\n",
    "import numpy as np\n",
    "\n",
    "# Import the data using the file path\n",
    "data_path = ['C:\\IntelPython3\\projects']\n",
    "filepath = os.sep.join(data_path + ['X_Y_Sinusoid_Data.csv'])\n",
    "\n",
    "data = pd.read_csv(filepath, sep=',')"
   ]
  },
  {
   "cell_type": "code",
   "execution_count": 3,
   "metadata": {},
   "outputs": [
    {
     "data": {
      "text/html": [
       "<div>\n",
       "<style scoped>\n",
       "    .dataframe tbody tr th:only-of-type {\n",
       "        vertical-align: middle;\n",
       "    }\n",
       "\n",
       "    .dataframe tbody tr th {\n",
       "        vertical-align: top;\n",
       "    }\n",
       "\n",
       "    .dataframe thead th {\n",
       "        text-align: right;\n",
       "    }\n",
       "</style>\n",
       "<table border=\"1\" class=\"dataframe\">\n",
       "  <thead>\n",
       "    <tr style=\"text-align: right;\">\n",
       "      <th></th>\n",
       "      <th>x</th>\n",
       "      <th>y</th>\n",
       "    </tr>\n",
       "  </thead>\n",
       "  <tbody>\n",
       "    <tr>\n",
       "      <th>0</th>\n",
       "      <td>0.038571</td>\n",
       "      <td>0.066391</td>\n",
       "    </tr>\n",
       "    <tr>\n",
       "      <th>1</th>\n",
       "      <td>0.166776</td>\n",
       "      <td>1.027483</td>\n",
       "    </tr>\n",
       "    <tr>\n",
       "      <th>2</th>\n",
       "      <td>0.183153</td>\n",
       "      <td>1.245302</td>\n",
       "    </tr>\n",
       "    <tr>\n",
       "      <th>3</th>\n",
       "      <td>0.187359</td>\n",
       "      <td>1.004781</td>\n",
       "    </tr>\n",
       "    <tr>\n",
       "      <th>4</th>\n",
       "      <td>0.243116</td>\n",
       "      <td>1.264121</td>\n",
       "    </tr>\n",
       "  </tbody>\n",
       "</table>\n",
       "</div>"
      ],
      "text/plain": [
       "          x         y\n",
       "0  0.038571  0.066391\n",
       "1  0.166776  1.027483\n",
       "2  0.183153  1.245302\n",
       "3  0.187359  1.004781\n",
       "4  0.243116  1.264121"
      ]
     },
     "execution_count": 3,
     "metadata": {},
     "output_type": "execute_result"
    }
   ],
   "source": [
    "data.head()"
   ]
  },
  {
   "cell_type": "code",
   "execution_count": 4,
   "metadata": {},
   "outputs": [
    {
     "data": {
      "text/plain": [
       "1.0503149483704781"
      ]
     },
     "execution_count": 4,
     "metadata": {},
     "output_type": "execute_result"
    }
   ],
   "source": [
    "from sklearn.metrics import mean_squared_error\n",
    "from sklearn import linear_model\n",
    "LR=linear_model.LinearRegression()\n",
    "X=[i for i in data.columns if i!='y']\n",
    "X_data=data[X]\n",
    "LR=LR.fit(X_data,data['y'])\n",
    "pre=LR.predict(X_data)\n",
    "x=0.038571\n",
    "data=data.drop([0])\n",
    "normalpredict=LR.predict([[0.038571]])\n",
    "mean_squared_error([[0.066391]],normalpredict)"
   ]
  },
  {
   "cell_type": "code",
   "execution_count": 5,
   "metadata": {},
   "outputs": [
    {
     "data": {
      "text/plain": [
       "<matplotlib.axes._subplots.AxesSubplot at 0x21120d55048>"
      ]
     },
     "execution_count": 5,
     "metadata": {},
     "output_type": "execute_result"
    },
    {
     "data": {
      "image/png": "[encoded data removed]",
      "text/plain": [
       "<Figure size 1080x1080 with 2 Axes>"
      ]
     },
     "metadata": {
      "needs_background": "light"
     },
     "output_type": "display_data"
    }
   ],
   "source": [
    "import seaborn as sns\n",
    "import matplotlib.pyplot as plt\n",
    "%matplotlib inline\n",
    "cor=data.corr()\n",
    "plt.figure(figsize=(15,15))\n",
    "sns.heatmap(cor,annot=True)"
   ]
  },
  {
   "cell_type": "code",
   "execution_count": null,
   "metadata": {},
   "outputs": [],
   "source": []
  },
  {
   "cell_type": "code",
   "execution_count": 6,
   "metadata": {},
   "outputs": [
    {
     "data": {
      "text/plain": [
       "10"
      ]
     },
     "execution_count": 6,
     "metadata": {},
     "output_type": "execute_result"
    }
   ],
   "source": [
    "from sklearn.model_selection import StratifiedShuffleSplit\n",
    "from sklearn.model_selection import train_test_split\n",
    "tstrain,tstest=train_test_split(data['x'],test_size=0.3,random_state=42)\n",
    "ss=StratifiedShuffleSplit(test_size=0.3)\n",
    "ss.get_n_splits(data)"
   ]
  },
  {
   "cell_type": "code",
   "execution_count": 7,
   "metadata": {},
   "outputs": [
    {
     "data": {
      "text/plain": [
       "1     1.027483\n",
       "2     1.245302\n",
       "3     1.004781\n",
       "4     1.264121\n",
       "5     0.498330\n",
       "6     0.597502\n",
       "7     0.629410\n",
       "8     0.822705\n",
       "9     0.557581\n",
       "10    0.565053\n",
       "11   -0.393222\n",
       "12   -0.912892\n",
       "13   -1.128250\n",
       "14   -1.110455\n",
       "15   -0.570343\n",
       "16   -0.620209\n",
       "17   -0.873236\n",
       "18   -0.187472\n",
       "19   -0.025815\n",
       "Name: y, dtype: float64"
      ]
     },
     "execution_count": 7,
     "metadata": {},
     "output_type": "execute_result"
    }
   ],
   "source": [
    "data['y']"
   ]
  },
  {
   "cell_type": "markdown",
   "metadata": {},
   "source": [
    "## R & D\n",
    "* Do a classification prob and find out discrete output. - done"
   ]
  },
  {
   "cell_type": "markdown",
   "metadata": {},
   "source": [
    "* what is multi class classification? multi class model? - done\n",
    "* what is `ovr`? - done\n",
    "* what is logisitic regression with regularization?penalty?cv i.e cross validation?\n",
    "* what is threshold variance? why we use this?\n",
    "* what is p-value?why is it minimized?\n",
    "* what is random_state?\n",
    "* diff types of correlation predictors?"
   ]
  },
  {
   "cell_type": "code",
   "execution_count": 366,
   "metadata": {},
   "outputs": [],
   "source": [
    "newdataset=pd.DataFrame({'shape':['round','oval','round','round'],\n",
    "                         'size':['small','large','small','small'],\n",
    "                         'color':['red','green','red','yellow'],\n",
    "                         'fruit_name':['apple','watermelon','apple','lemon'],\n",
    "                         'price':[15,50,15,10]\n",
    "                                  })"
   ]
  },
  {
   "cell_type": "code",
   "execution_count": 367,
   "metadata": {},
   "outputs": [],
   "source": [
    "from sklearn.preprocessing import LabelEncoder\n",
    "le=LabelEncoder()\n",
    "le=le.fit(newdataset['fruit_name'])\n",
    "Y_data=le.transform(newdataset['fruit_name'])\n",
    "# Y_data=pd.Series(Y_data,name='fruit_name')\n"
   ]
  },
  {
   "cell_type": "code",
   "execution_count": 368,
   "metadata": {},
   "outputs": [],
   "source": [
    "newdataset=newdataset.drop(columns=['fruit_name'])\n",
    "pricecol=newdataset['price']\n",
    "newdataset=newdataset.select_dtypes(include=[object])\n",
    "\n",
    "pricecol=pricecol.to_numpy()"
   ]
  },
  {
   "cell_type": "code",
   "execution_count": 369,
   "metadata": {},
   "outputs": [
    {
     "data": {
      "text/plain": [
       "array([[ 0.,  1.,  0.,  1.,  0.,  1.,  0., 15.],\n",
       "       [ 1.,  0.,  1.,  0.,  1.,  0.,  0., 50.],\n",
       "       [ 0.,  1.,  0.,  1.,  0.,  1.,  0., 15.],\n",
       "       [ 0.,  1.,  0.,  1.,  0.,  0.,  1., 10.]])"
      ]
     },
     "execution_count": 369,
     "metadata": {},
     "output_type": "execute_result"
    }
   ],
   "source": [
    "from sklearn.preprocessing import OneHotEncoder\n",
    "encoder = OneHotEncoder(categories = \"auto\", handle_unknown = \"ignore\")\n",
    "Xenc=encoder.fit_transform(newdataset)\n",
    "\n",
    "pcol=pricecol.reshape(-1,1)\n",
    "X_data=np.append(Xenc.toarray(),pcol,axis=1)\n",
    "X_data"
   ]
  },
  {
   "cell_type": "code",
   "execution_count": 370,
   "metadata": {},
   "outputs": [],
   "source": [
    "from sklearn.linear_model import LogisticRegression\n",
    "clf = LogisticRegression(random_state=0).fit(X_data, Y_data)\n",
    "modelprect=clf.predict(X_data)\n"
   ]
  },
  {
   "cell_type": "code",
   "execution_count": 375,
   "metadata": {},
   "outputs": [
    {
     "data": {
      "text/plain": [
       "(array([0, 2, 0, 1]), array([1, 0]))"
      ]
     },
     "execution_count": 375,
     "metadata": {},
     "output_type": "execute_result"
    }
   ],
   "source": [
    "from sklearn.metrics import accuracy_score\n",
    "unseendata=pd.DataFrame({'shape':['round','round'],'size':['large','small'],'color':['pink','red'],'price':[10,20]})\n",
    "pecol=unseendata['price']\n",
    "pecol=pecol.to_numpy()\n",
    "pecol=pecol.reshape(-1,1)\n",
    "unseendata=unseendata.drop(columns=['price'])\n",
    "new_data=encoder.transform(unseendata).toarray()\n",
    "new_data=np.append(new_data,pecol,axis=1)\n",
    "newdata_predict=clf.predict(new_data)\n",
    "le.inverse_transform(newdata_predict)\n",
    "Y_data,newdata_predict\n",
    "#accuracy_score(Y_data,modelprect)\n"
   ]
  },
  {
   "cell_type": "markdown",
   "metadata": {},
   "source": [
    "# how to calculate accuracy if the new data is 1 tuple and what will be y true paramter"
   ]
  },
  {
   "cell_type": "markdown",
   "metadata": {},
   "source": [
    "## Apple Class"
   ]
  },
  {
   "cell_type": "code",
   "execution_count": 376,
   "metadata": {},
   "outputs": [
    {
     "data": {
      "text/plain": [
       "shape    False\n",
       "size     False\n",
       "color    False\n",
       "dtype: bool"
      ]
     },
     "execution_count": 376,
     "metadata": {},
     "output_type": "execute_result"
    }
   ],
   "source": [
    "# predict for every class i.e for apple,watermelon,lemon\n",
    "# newdataset['fruit_name']=(newdataset['fruit_name']=='apple').astype(np.int)\n",
    "# how to separate tuples with fruit name apple\n",
    "extradata=pd.DataFrame({'shape':['round'],'size':['large'],'color':['red'],'fruit_name':['promogranate']})\n",
    "\n"
   ]
  },
  {
   "cell_type": "code",
   "execution_count": null,
   "metadata": {},
   "outputs": [],
   "source": [
    "%%timeit\n",
    "n=int(input())\n",
    "a=[int(i) for i in input().split()][:n]\n",
    "l=[]\n",
    "for i in range(0,len(a)):\n",
    "    \n",
    "    p=list(a)\n",
    "    p.remove(a[i])\n",
    "    l.append(sum(p))\n",
    "\n",
    "    \n",
    "print(' '.join([str(min(l)),str(max(l))]))\n"
   ]
  },
  {
   "cell_type": "code",
   "execution_count": null,
   "metadata": {},
   "outputs": [],
   "source": [
    "import timeit"
   ]
  },
  {
   "cell_type": "code",
   "execution_count": null,
   "metadata": {},
   "outputs": [],
   "source": []
  },
  {
   "cell_type": "code",
   "execution_count": null,
   "metadata": {
    "scrolled": true
   },
   "outputs": [],
   "source": []
  },
  {
   "cell_type": "code",
   "execution_count": null,
   "metadata": {},
   "outputs": [],
   "source": []
  }
 ],
 "metadata": {
  "kernelspec": {
   "display_name": "Python 3",
   "language": "python",
   "name": "python3"
  },
  "language_info": {
   "codemirror_mode": {
    "name": "ipython",
    "version": 3
   },
   "file_extension": ".py",
   "mimetype": "text/x-python",
   "name": "python",
   "nbconvert_exporter": "python",
   "pygments_lexer": "ipython3",
   "version": "3.7.6"
  }
 },
 "nbformat": 4,
 "nbformat_minor": 4
}
