{
 "cells": [
  {
   "cell_type": "markdown",
   "metadata": {},
   "source": [
    "# Author - Shreya Jallypally"
   ]
  },
  {
   "cell_type": "markdown",
   "metadata": {},
   "source": [
    "## Introduction\n",
    "* Import the iris data and examine the features.\n",
    "* We will be using all of them to predict species, but the species feature will need to be integer encoded."
   ]
  },
  {
   "cell_type": "code",
   "execution_count": 18,
   "metadata": {},
   "outputs": [],
   "source": [
    "from sklearn.preprocessing import LabelEncoder\n",
    "from sklearn.model_selection import StratifiedShuffleSplit\n",
    "\n",
    "import pandas as pd\n",
    "import numpy as np\n",
    "filepat='C:\\IntelPython3\\projects\\Iris_Data.csv'\n",
    "irisdata=pd.read_csv(filepat)"
   ]
  },
  {
   "cell_type": "code",
   "execution_count": 19,
   "metadata": {},
   "outputs": [],
   "source": [
    "lenc=LabelEncoder()\n",
    "irisdata['species']=lenc.fit_transform(irisdata['species'])"
   ]
  },
  {
   "cell_type": "markdown",
   "metadata": {},
   "source": [
    "\n",
    "* Use `StratifiedShuffleSplit` to split data into train and test sets that are stratified by species. \n",
    "* Checking the percent composition of each species level for both the train and test data sets."
   ]
  },
  {
   "cell_type": "code",
   "execution_count": 20,
   "metadata": {},
   "outputs": [],
   "source": [
    "ss=StratifiedShuffleSplit(random_state=0)\n",
    "X=[i for i in irisdata.columns if i!='species']\n",
    "X_dt=irisdata[X]\n",
    "Y_dt=irisdata['species']\n",
    "trainidx,testidx=[],[]\n",
    "for train_idx,test_idx in ss.split(X_dt,Y_dt):\n",
    "    trainidx.append(train_idx),testidx.append(test_idx)\n",
    "    X_train,X_test=X_dt.loc[train_idx],X_dt.loc[test_idx]\n",
    "    Y_train,Y_test=Y_dt.loc[train_idx],Y_dt.loc[test_idx]\n"
   ]
  },
  {
   "cell_type": "code",
   "execution_count": 21,
   "metadata": {},
   "outputs": [
    {
     "data": {
      "text/plain": [
       "(90.0, 10.0)"
      ]
     },
     "execution_count": 21,
     "metadata": {},
     "output_type": "execute_result"
    }
   ],
   "source": [
    "X_train.shape[0]/X_dt.shape[0]*100,X_test.shape[0]/X_dt.shape[0]*100"
   ]
  },
  {
   "cell_type": "markdown",
   "metadata": {},
   "source": [
    "* Fiting a decision tree classifier with no set limits on maximum depth, features, or leaves."
   ]
  },
  {
   "cell_type": "code",
   "execution_count": 22,
   "metadata": {},
   "outputs": [
    {
     "data": {
      "text/plain": [
       "(5, 9)"
      ]
     },
     "execution_count": 22,
     "metadata": {},
     "output_type": "execute_result"
    }
   ],
   "source": [
    "from sklearn.tree import DecisionTreeClassifier\n",
    "\n",
    "Dtc=DecisionTreeClassifier ()\n",
    "Dtc=Dtc.fit(X_train,Y_train)\n",
    "Dtc.get_depth(),Dtc.get_n_leaves()"
   ]
  },
  {
   "cell_type": "code",
   "execution_count": 30,
   "metadata": {},
   "outputs": [],
   "source": [
    "from sklearn.metrics import accuracy_score\n",
    "from sklearn.metrics import precision_score\n",
    "from sklearn.metrics import recall_score\n",
    "from sklearn.metrics import f1_score\n",
    "from sklearn.metrics import roc_auc_score\n",
    "from sklearn.metrics import confusion_matrix\n",
    "from sklearn.metrics import roc_curve\n",
    "\n",
    "def error(ytrue,ypred):\n",
    "    ErrorDF=pd.Series({\n",
    "    'accuracy': accuracy_score(ytrue,ypred),\n",
    "    'precision':precision_score(ytrue,ypred,average='micro'),\n",
    "    'recall':recall_score(ytrue,ypred,average='micro'),\n",
    "    'f1'  :f1_score(ytrue,ypred,average='micro'),\n",
    "    })\n",
    "    return ErrorDF\n",
    "    "
   ]
  },
  {
   "cell_type": "markdown",
   "metadata": {},
   "source": [
    "* Prediction without any parameters"
   ]
  },
  {
   "cell_type": "code",
   "execution_count": 42,
   "metadata": {},
   "outputs": [
    {
     "data": {
      "text/html": [
       "<div>\n",
       "<style scoped>\n",
       "    .dataframe tbody tr th:only-of-type {\n",
       "        vertical-align: middle;\n",
       "    }\n",
       "\n",
       "    .dataframe tbody tr th {\n",
       "        vertical-align: top;\n",
       "    }\n",
       "\n",
       "    .dataframe thead th {\n",
       "        text-align: right;\n",
       "    }\n",
       "</style>\n",
       "<table border=\"1\" class=\"dataframe\">\n",
       "  <thead>\n",
       "    <tr style=\"text-align: right;\">\n",
       "      <th></th>\n",
       "      <th>index</th>\n",
       "      <th>train_error without parms</th>\n",
       "      <th>test_error without parms</th>\n",
       "    </tr>\n",
       "  </thead>\n",
       "  <tbody>\n",
       "    <tr>\n",
       "      <th>0</th>\n",
       "      <td>accuracy</td>\n",
       "      <td>1.0</td>\n",
       "      <td>1.0</td>\n",
       "    </tr>\n",
       "    <tr>\n",
       "      <th>1</th>\n",
       "      <td>precision</td>\n",
       "      <td>1.0</td>\n",
       "      <td>1.0</td>\n",
       "    </tr>\n",
       "    <tr>\n",
       "      <th>2</th>\n",
       "      <td>recall</td>\n",
       "      <td>1.0</td>\n",
       "      <td>1.0</td>\n",
       "    </tr>\n",
       "    <tr>\n",
       "      <th>3</th>\n",
       "      <td>f1</td>\n",
       "      <td>1.0</td>\n",
       "      <td>1.0</td>\n",
       "    </tr>\n",
       "  </tbody>\n",
       "</table>\n",
       "</div>"
      ],
      "text/plain": [
       "       index  train_error without parms  test_error without parms\n",
       "0   accuracy                        1.0                       1.0\n",
       "1  precision                        1.0                       1.0\n",
       "2     recall                        1.0                       1.0\n",
       "3         f1                        1.0                       1.0"
      ]
     },
     "execution_count": 42,
     "metadata": {},
     "output_type": "execute_result"
    }
   ],
   "source": [
    "ytrainpredict=Dtc.predict(X_train)\n",
    "ytestpredict=Dtc.predict(X_test)\n",
    "e=error(Y_test,ytestpredict)\n",
    "e1=error(Y_train,ytrainpredict)\n",
    "Error=pd.DataFrame({'train_error without parms':e1,'test_error without parms':e})\n",
    "Error.reset_index()"
   ]
  },
  {
   "cell_type": "markdown",
   "metadata": {},
   "source": [
    "\n",
    "* Using grid search with cross validation, find a decision tree that performs well on the test iris_data set. Use a different variable name for this decision tree model.\n",
    "* Prediction with parameters."
   ]
  },
  {
   "cell_type": "code",
   "execution_count": 45,
   "metadata": {},
   "outputs": [],
   "source": [
    "from sklearn.model_selection import GridSearchCV\n",
    "estimator=DecisionTreeClassifier()\n",
    "parameters={'criterion':['gini', 'entropy'],'splitter':('best', 'random'),'max_depth':[1,2],'min_samples_split':[2],'max_features':['auto', 'sqrt', 'log2']}\n",
    "grids=GridSearchCV(estimator,parameters)\n",
    "grids=grids.fit(X_train,Y_train)"
   ]
  },
  {
   "cell_type": "code",
   "execution_count": 46,
   "metadata": {},
   "outputs": [
    {
     "data": {
      "text/plain": [
       "(2, 3)"
      ]
     },
     "execution_count": 46,
     "metadata": {},
     "output_type": "execute_result"
    }
   ],
   "source": [
    "grids.best_estimator_.get_depth(),grids.best_estimator_.get_n_leaves()"
   ]
  },
  {
   "cell_type": "code",
   "execution_count": 62,
   "metadata": {},
   "outputs": [
    {
     "data": {
      "text/html": [
       "<div>\n",
       "<style scoped>\n",
       "    .dataframe tbody tr th:only-of-type {\n",
       "        vertical-align: middle;\n",
       "    }\n",
       "\n",
       "    .dataframe tbody tr th {\n",
       "        vertical-align: top;\n",
       "    }\n",
       "\n",
       "    .dataframe thead th {\n",
       "        text-align: right;\n",
       "    }\n",
       "</style>\n",
       "<table border=\"1\" class=\"dataframe\">\n",
       "  <thead>\n",
       "    <tr style=\"text-align: right;\">\n",
       "      <th></th>\n",
       "      <th>train_error with parms</th>\n",
       "      <th>test_error withparms</th>\n",
       "    </tr>\n",
       "  </thead>\n",
       "  <tbody>\n",
       "    <tr>\n",
       "      <th>accuracy</th>\n",
       "      <td>0.948148</td>\n",
       "      <td>1.0</td>\n",
       "    </tr>\n",
       "    <tr>\n",
       "      <th>precision</th>\n",
       "      <td>0.948148</td>\n",
       "      <td>1.0</td>\n",
       "    </tr>\n",
       "    <tr>\n",
       "      <th>recall</th>\n",
       "      <td>0.948148</td>\n",
       "      <td>1.0</td>\n",
       "    </tr>\n",
       "    <tr>\n",
       "      <th>f1</th>\n",
       "      <td>0.948148</td>\n",
       "      <td>1.0</td>\n",
       "    </tr>\n",
       "  </tbody>\n",
       "</table>\n",
       "</div>"
      ],
      "text/plain": [
       "           train_error with parms  test_error withparms\n",
       "accuracy                 0.948148                   1.0\n",
       "precision                0.948148                   1.0\n",
       "recall                   0.948148                   1.0\n",
       "f1                       0.948148                   1.0"
      ]
     },
     "execution_count": 62,
     "metadata": {},
     "output_type": "execute_result"
    }
   ],
   "source": [
    "ytrainpredictparms=grids.predict(X_train)\n",
    "ytestpredictparms=grids.predict(X_test)\n",
    "e3=error(Y_test,ytestpredictparms)\n",
    "e4=error(Y_train,ytrainpredictparms)\n",
    "Errorp=pd.DataFrame({'train_error with parms':e4,'test_error withparms':e3})\n",
    "Errorp.reset_index()\n",
    "pd.concat([Error,Errorp],axis=1)\n",
    "Errorp"
   ]
  },
  {
   "cell_type": "code",
   "execution_count": 48,
   "metadata": {},
   "outputs": [],
   "source": [
    "feature_cols=[i for i in irisdata.columns if i!='species']\n",
    "for i in zip(trainidx,testidx):\n",
    "    X_train = irisdata.loc[i[0], feature_cols]\n",
    "    y_train = irisdata.loc[i[0], 'species']\n",
    "\n",
    "    X_test = irisdata.loc[i[1], feature_cols]\n",
    "    y_test = irisdata.loc[i[1], 'species']"
   ]
  },
  {
   "cell_type": "markdown",
   "metadata": {},
   "source": [
    "* Using grid search with cross validation, find a decision tree **regression** model that performs well on the test iris_data set.\n",
    "* Measure the errors on the training and test sets using mean squared error.\n",
    "* Make a plot of actual *vs* predicted species."
   ]
  },
  {
   "cell_type": "code",
   "execution_count": 50,
   "metadata": {},
   "outputs": [],
   "source": [
    "from sklearn.tree import DecisionTreeRegressor\n",
    "estimator=DecisionTreeRegressor()\n",
    "parameters={'criterion':['mse', 'friedman_mse', 'mae'],'splitter':('best', 'random'),'max_depth':[1,2],'min_samples_split':[2],'max_features':['auto', 'sqrt', 'log2']}\n",
    "gsriris=GridSearchCV(estimator,parameters)\n",
    "gsriris=gsriris.fit(X_train,y_train)"
   ]
  },
  {
   "cell_type": "code",
   "execution_count": 60,
   "metadata": {},
   "outputs": [
    {
     "data": {
      "text/plain": [
       "train_mean    0.040484\n",
       "test_mean     0.003669\n",
       "dtype: float64"
      ]
     },
     "execution_count": 60,
     "metadata": {},
     "output_type": "execute_result"
    }
   ],
   "source": [
    "from sklearn.metrics import mean_squared_error\n",
    "\n",
    "ytrainr=gsriris.predict(X_train)\n",
    "ytestr=gsriris.predict(X_test)\n",
    "\n",
    "\n",
    "compareerror=pd.Series({'train_mean':mean_squared_error(y_train,ytrainr),\n",
    "                           'test_mean':mean_squared_error(y_test,ytestr)})\n",
    "compareerror"
   ]
  },
  {
   "cell_type": "markdown",
   "metadata": {},
   "source": [
    "## Plotting the graph of both the models i.e decision tree classifier and regressor"
   ]
  },
  {
   "cell_type": "code",
   "execution_count": 63,
   "metadata": {},
   "outputs": [
    {
     "data": {
      "image/png": "[encoded data removed]",
      "text/plain": [
       "<Figure size 1080x360 with 1 Axes>"
      ]
     },
     "metadata": {},
     "output_type": "display_data"
    }
   ],
   "source": [
    "import seaborn as sns\n",
    "import matplotlib.pyplot as plt\n",
    "\n",
    "sns.set_context('notebook')\n",
    "sns.set_style('white')\n",
    "sns.set_palette('dark')\n",
    "fig,axes=plt.figure(figsize=(15,5)),plt.axes()\n",
    "axes.plot(y_test,ytestr)\n",
    "axes.set(xlabel='Test', ylabel='Predict' ,title='Prediction vs Model data');"
   ]
  },
  {
   "cell_type": "code",
   "execution_count": null,
   "metadata": {},
   "outputs": [],
   "source": []
  }
 ],
 "metadata": {
  "kernelspec": {
   "display_name": "Python 3",
   "language": "python",
   "name": "python3"
  },
  "language_info": {
   "codemirror_mode": {
    "name": "ipython",
    "version": 3
   },
   "file_extension": ".py",
   "mimetype": "text/x-python",
   "name": "python",
   "nbconvert_exporter": "python",
   "pygments_lexer": "ipython3",
   "version": "3.7.6"
  }
 },
 "nbformat": 4,
 "nbformat_minor": 4
}
