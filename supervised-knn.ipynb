{
 "cells": [
  {
   "cell_type": "markdown",
   "metadata": {},
   "source": [
    "## KNN Prediction\n",
    "The data file is called Orange_Telecom_Churn_Data.csv.\n",
    "import the data file from computer i.e path will be 'C:\\IntelPython3\\projects'."
   ]
  },
  {
   "cell_type": "markdown",
   "metadata": {},
   "source": [
    "# Main R & D\n",
    "`Task`\n",
    "* All Variables are given except target variable and predict target variable \n",
    "* data is given except 1 value of target variable find that."
   ]
  },
  {
   "cell_type": "code",
   "execution_count": 17,
   "metadata": {},
   "outputs": [
    {
     "data": {
      "text/plain": [
       "state                             object\n",
       "account_length                     int64\n",
       "area_code                          int64\n",
       "phone_number                      object\n",
       "intl_plan                         object\n",
       "voice_mail_plan                   object\n",
       "number_vmail_messages              int64\n",
       "total_day_minutes                float64\n",
       "total_day_calls                    int64\n",
       "total_day_charge                 float64\n",
       "total_eve_minutes                float64\n",
       "total_eve_calls                    int64\n",
       "total_eve_charge                 float64\n",
       "total_night_minutes              float64\n",
       "total_night_calls                  int64\n",
       "total_night_charge               float64\n",
       "total_intl_minutes               float64\n",
       "total_intl_calls                   int64\n",
       "total_intl_charge                float64\n",
       "number_customer_service_calls      int64\n",
       "churned                             bool\n",
       "dtype: object"
      ]
     },
     "execution_count": 17,
     "metadata": {},
     "output_type": "execute_result"
    }
   ],
   "source": [
    "from __future__ import print_function\n",
    "import os\n",
    "import pandas as pd\n",
    "data_path = ['C:\\IntelPython3\\projects']\n",
    "filepath = os.sep.join(data_path + ['Orange_Telecom_Churn_Data.csv'])\n",
    "data = pd.read_csv(filepath, sep=',')\n",
    "data.dtypes"
   ]
  },
  {
   "cell_type": "markdown",
   "metadata": {},
   "source": [
    "# Question 1\n",
    "* Begin by importing the data. Examine the columns and data.\n",
    "* Notice that the data contains a state, area code, and phone number. Do you think these are good features to use when building a machine learning model? Why or why not?"
   ]
  },
  {
   "cell_type": "code",
   "execution_count": 18,
   "metadata": {},
   "outputs": [],
   "source": [
    "data=data.drop(columns=['state','area_code','phone_number'])"
   ]
  },
  {
   "cell_type": "markdown",
   "metadata": {},
   "source": [
    "# Output\n",
    "* removed successfully columns:state, area code, and phone number."
   ]
  },
  {
   "cell_type": "markdown",
   "metadata": {},
   "source": [
    "# Question 2 \n",
    "* Notice that some of the columns are categorical data and some are floats. These features will need to be numerically encoded using one of the methods from the lecture.\n",
    "* Finally, remember from the lecture that K-nearest neighbors requires scaled data. Scale the data using one of the scaling methods discussed in the lecture."
   ]
  },
  {
   "cell_type": "code",
   "execution_count": 19,
   "metadata": {},
   "outputs": [
    {
     "data": {
      "text/html": [
       "<div>\n",
       "<style scoped>\n",
       "    .dataframe tbody tr th:only-of-type {\n",
       "        vertical-align: middle;\n",
       "    }\n",
       "\n",
       "    .dataframe tbody tr th {\n",
       "        vertical-align: top;\n",
       "    }\n",
       "\n",
       "    .dataframe thead th {\n",
       "        text-align: right;\n",
       "    }\n",
       "</style>\n",
       "<table border=\"1\" class=\"dataframe\">\n",
       "  <thead>\n",
       "    <tr style=\"text-align: right;\">\n",
       "      <th></th>\n",
       "      <th>account_length</th>\n",
       "      <th>intl_plan</th>\n",
       "      <th>voice_mail_plan</th>\n",
       "      <th>number_vmail_messages</th>\n",
       "      <th>total_day_minutes</th>\n",
       "      <th>total_day_calls</th>\n",
       "      <th>total_day_charge</th>\n",
       "      <th>total_eve_minutes</th>\n",
       "      <th>total_eve_calls</th>\n",
       "      <th>total_eve_charge</th>\n",
       "      <th>total_night_minutes</th>\n",
       "      <th>total_night_calls</th>\n",
       "      <th>total_night_charge</th>\n",
       "      <th>total_intl_minutes</th>\n",
       "      <th>total_intl_calls</th>\n",
       "      <th>total_intl_charge</th>\n",
       "      <th>number_customer_service_calls</th>\n",
       "      <th>churned</th>\n",
       "    </tr>\n",
       "  </thead>\n",
       "  <tbody>\n",
       "    <tr>\n",
       "      <th>0</th>\n",
       "      <td>0.524793</td>\n",
       "      <td>0.0</td>\n",
       "      <td>1.0</td>\n",
       "      <td>0.480769</td>\n",
       "      <td>0.754196</td>\n",
       "      <td>0.666667</td>\n",
       "      <td>0.754183</td>\n",
       "      <td>0.542755</td>\n",
       "      <td>0.582353</td>\n",
       "      <td>0.542866</td>\n",
       "      <td>0.619494</td>\n",
       "      <td>0.520000</td>\n",
       "      <td>0.619584</td>\n",
       "      <td>0.500</td>\n",
       "      <td>0.15</td>\n",
       "      <td>0.500000</td>\n",
       "      <td>0.111111</td>\n",
       "      <td>0.0</td>\n",
       "    </tr>\n",
       "    <tr>\n",
       "      <th>1</th>\n",
       "      <td>0.438017</td>\n",
       "      <td>0.0</td>\n",
       "      <td>1.0</td>\n",
       "      <td>0.500000</td>\n",
       "      <td>0.459744</td>\n",
       "      <td>0.745455</td>\n",
       "      <td>0.459672</td>\n",
       "      <td>0.537531</td>\n",
       "      <td>0.605882</td>\n",
       "      <td>0.537690</td>\n",
       "      <td>0.644051</td>\n",
       "      <td>0.588571</td>\n",
       "      <td>0.644344</td>\n",
       "      <td>0.685</td>\n",
       "      <td>0.15</td>\n",
       "      <td>0.685185</td>\n",
       "      <td>0.111111</td>\n",
       "      <td>0.0</td>\n",
       "    </tr>\n",
       "    <tr>\n",
       "      <th>2</th>\n",
       "      <td>0.561983</td>\n",
       "      <td>0.0</td>\n",
       "      <td>0.0</td>\n",
       "      <td>0.000000</td>\n",
       "      <td>0.692461</td>\n",
       "      <td>0.690909</td>\n",
       "      <td>0.692436</td>\n",
       "      <td>0.333242</td>\n",
       "      <td>0.647059</td>\n",
       "      <td>0.333225</td>\n",
       "      <td>0.411646</td>\n",
       "      <td>0.594286</td>\n",
       "      <td>0.411930</td>\n",
       "      <td>0.610</td>\n",
       "      <td>0.25</td>\n",
       "      <td>0.609259</td>\n",
       "      <td>0.000000</td>\n",
       "      <td>0.0</td>\n",
       "    </tr>\n",
       "    <tr>\n",
       "      <th>3</th>\n",
       "      <td>0.342975</td>\n",
       "      <td>1.0</td>\n",
       "      <td>0.0</td>\n",
       "      <td>0.000000</td>\n",
       "      <td>0.851778</td>\n",
       "      <td>0.430303</td>\n",
       "      <td>0.851740</td>\n",
       "      <td>0.170195</td>\n",
       "      <td>0.517647</td>\n",
       "      <td>0.170171</td>\n",
       "      <td>0.498481</td>\n",
       "      <td>0.508571</td>\n",
       "      <td>0.498593</td>\n",
       "      <td>0.330</td>\n",
       "      <td>0.35</td>\n",
       "      <td>0.329630</td>\n",
       "      <td>0.222222</td>\n",
       "      <td>0.0</td>\n",
       "    </tr>\n",
       "    <tr>\n",
       "      <th>4</th>\n",
       "      <td>0.305785</td>\n",
       "      <td>1.0</td>\n",
       "      <td>0.0</td>\n",
       "      <td>0.000000</td>\n",
       "      <td>0.474253</td>\n",
       "      <td>0.684848</td>\n",
       "      <td>0.474230</td>\n",
       "      <td>0.407754</td>\n",
       "      <td>0.717647</td>\n",
       "      <td>0.407959</td>\n",
       "      <td>0.473165</td>\n",
       "      <td>0.691429</td>\n",
       "      <td>0.473270</td>\n",
       "      <td>0.505</td>\n",
       "      <td>0.15</td>\n",
       "      <td>0.505556</td>\n",
       "      <td>0.333333</td>\n",
       "      <td>0.0</td>\n",
       "    </tr>\n",
       "    <tr>\n",
       "      <th>...</th>\n",
       "      <td>...</td>\n",
       "      <td>...</td>\n",
       "      <td>...</td>\n",
       "      <td>...</td>\n",
       "      <td>...</td>\n",
       "      <td>...</td>\n",
       "      <td>...</td>\n",
       "      <td>...</td>\n",
       "      <td>...</td>\n",
       "      <td>...</td>\n",
       "      <td>...</td>\n",
       "      <td>...</td>\n",
       "      <td>...</td>\n",
       "      <td>...</td>\n",
       "      <td>...</td>\n",
       "      <td>...</td>\n",
       "      <td>...</td>\n",
       "      <td>...</td>\n",
       "    </tr>\n",
       "    <tr>\n",
       "      <th>4995</th>\n",
       "      <td>0.202479</td>\n",
       "      <td>0.0</td>\n",
       "      <td>1.0</td>\n",
       "      <td>0.769231</td>\n",
       "      <td>0.670555</td>\n",
       "      <td>0.769697</td>\n",
       "      <td>0.670515</td>\n",
       "      <td>0.613143</td>\n",
       "      <td>0.741176</td>\n",
       "      <td>0.613394</td>\n",
       "      <td>0.753165</td>\n",
       "      <td>0.662857</td>\n",
       "      <td>0.753517</td>\n",
       "      <td>0.495</td>\n",
       "      <td>0.25</td>\n",
       "      <td>0.494444</td>\n",
       "      <td>0.222222</td>\n",
       "      <td>0.0</td>\n",
       "    </tr>\n",
       "    <tr>\n",
       "      <th>4996</th>\n",
       "      <td>0.623967</td>\n",
       "      <td>0.0</td>\n",
       "      <td>0.0</td>\n",
       "      <td>0.000000</td>\n",
       "      <td>0.524040</td>\n",
       "      <td>0.545455</td>\n",
       "      <td>0.523929</td>\n",
       "      <td>0.706076</td>\n",
       "      <td>0.429412</td>\n",
       "      <td>0.706244</td>\n",
       "      <td>0.540759</td>\n",
       "      <td>0.645714</td>\n",
       "      <td>0.540799</td>\n",
       "      <td>0.735</td>\n",
       "      <td>0.10</td>\n",
       "      <td>0.735185</td>\n",
       "      <td>0.333333</td>\n",
       "      <td>1.0</td>\n",
       "    </tr>\n",
       "    <tr>\n",
       "      <th>4997</th>\n",
       "      <td>0.247934</td>\n",
       "      <td>0.0</td>\n",
       "      <td>0.0</td>\n",
       "      <td>0.000000</td>\n",
       "      <td>0.400000</td>\n",
       "      <td>0.539394</td>\n",
       "      <td>0.399933</td>\n",
       "      <td>0.475117</td>\n",
       "      <td>0.752941</td>\n",
       "      <td>0.475251</td>\n",
       "      <td>0.537722</td>\n",
       "      <td>0.554286</td>\n",
       "      <td>0.537985</td>\n",
       "      <td>0.680</td>\n",
       "      <td>0.20</td>\n",
       "      <td>0.679630</td>\n",
       "      <td>0.111111</td>\n",
       "      <td>0.0</td>\n",
       "    </tr>\n",
       "    <tr>\n",
       "      <th>4998</th>\n",
       "      <td>0.446281</td>\n",
       "      <td>0.0</td>\n",
       "      <td>0.0</td>\n",
       "      <td>0.000000</td>\n",
       "      <td>0.537127</td>\n",
       "      <td>0.406061</td>\n",
       "      <td>0.537149</td>\n",
       "      <td>0.472092</td>\n",
       "      <td>0.541176</td>\n",
       "      <td>0.472016</td>\n",
       "      <td>0.568101</td>\n",
       "      <td>0.508571</td>\n",
       "      <td>0.568374</td>\n",
       "      <td>0.425</td>\n",
       "      <td>0.30</td>\n",
       "      <td>0.425926</td>\n",
       "      <td>0.000000</td>\n",
       "      <td>0.0</td>\n",
       "    </tr>\n",
       "    <tr>\n",
       "      <th>4999</th>\n",
       "      <td>0.351240</td>\n",
       "      <td>0.0</td>\n",
       "      <td>1.0</td>\n",
       "      <td>0.653846</td>\n",
       "      <td>0.368137</td>\n",
       "      <td>0.618182</td>\n",
       "      <td>0.368139</td>\n",
       "      <td>0.734396</td>\n",
       "      <td>0.611765</td>\n",
       "      <td>0.734390</td>\n",
       "      <td>0.391899</td>\n",
       "      <td>0.571429</td>\n",
       "      <td>0.392234</td>\n",
       "      <td>0.465</td>\n",
       "      <td>0.80</td>\n",
       "      <td>0.464815</td>\n",
       "      <td>0.000000</td>\n",
       "      <td>0.0</td>\n",
       "    </tr>\n",
       "  </tbody>\n",
       "</table>\n",
       "<p>5000 rows × 18 columns</p>\n",
       "</div>"
      ],
      "text/plain": [
       "      account_length  intl_plan  voice_mail_plan  number_vmail_messages  \\\n",
       "0           0.524793        0.0              1.0               0.480769   \n",
       "1           0.438017        0.0              1.0               0.500000   \n",
       "2           0.561983        0.0              0.0               0.000000   \n",
       "3           0.342975        1.0              0.0               0.000000   \n",
       "4           0.305785        1.0              0.0               0.000000   \n",
       "...              ...        ...              ...                    ...   \n",
       "4995        0.202479        0.0              1.0               0.769231   \n",
       "4996        0.623967        0.0              0.0               0.000000   \n",
       "4997        0.247934        0.0              0.0               0.000000   \n",
       "4998        0.446281        0.0              0.0               0.000000   \n",
       "4999        0.351240        0.0              1.0               0.653846   \n",
       "\n",
       "      total_day_minutes  total_day_calls  total_day_charge  total_eve_minutes  \\\n",
       "0              0.754196         0.666667          0.754183           0.542755   \n",
       "1              0.459744         0.745455          0.459672           0.537531   \n",
       "2              0.692461         0.690909          0.692436           0.333242   \n",
       "3              0.851778         0.430303          0.851740           0.170195   \n",
       "4              0.474253         0.684848          0.474230           0.407754   \n",
       "...                 ...              ...               ...                ...   \n",
       "4995           0.670555         0.769697          0.670515           0.613143   \n",
       "4996           0.524040         0.545455          0.523929           0.706076   \n",
       "4997           0.400000         0.539394          0.399933           0.475117   \n",
       "4998           0.537127         0.406061          0.537149           0.472092   \n",
       "4999           0.368137         0.618182          0.368139           0.734396   \n",
       "\n",
       "      total_eve_calls  total_eve_charge  total_night_minutes  \\\n",
       "0            0.582353          0.542866             0.619494   \n",
       "1            0.605882          0.537690             0.644051   \n",
       "2            0.647059          0.333225             0.411646   \n",
       "3            0.517647          0.170171             0.498481   \n",
       "4            0.717647          0.407959             0.473165   \n",
       "...               ...               ...                  ...   \n",
       "4995         0.741176          0.613394             0.753165   \n",
       "4996         0.429412          0.706244             0.540759   \n",
       "4997         0.752941          0.475251             0.537722   \n",
       "4998         0.541176          0.472016             0.568101   \n",
       "4999         0.611765          0.734390             0.391899   \n",
       "\n",
       "      total_night_calls  total_night_charge  total_intl_minutes  \\\n",
       "0              0.520000            0.619584               0.500   \n",
       "1              0.588571            0.644344               0.685   \n",
       "2              0.594286            0.411930               0.610   \n",
       "3              0.508571            0.498593               0.330   \n",
       "4              0.691429            0.473270               0.505   \n",
       "...                 ...                 ...                 ...   \n",
       "4995           0.662857            0.753517               0.495   \n",
       "4996           0.645714            0.540799               0.735   \n",
       "4997           0.554286            0.537985               0.680   \n",
       "4998           0.508571            0.568374               0.425   \n",
       "4999           0.571429            0.392234               0.465   \n",
       "\n",
       "      total_intl_calls  total_intl_charge  number_customer_service_calls  \\\n",
       "0                 0.15           0.500000                       0.111111   \n",
       "1                 0.15           0.685185                       0.111111   \n",
       "2                 0.25           0.609259                       0.000000   \n",
       "3                 0.35           0.329630                       0.222222   \n",
       "4                 0.15           0.505556                       0.333333   \n",
       "...                ...                ...                            ...   \n",
       "4995              0.25           0.494444                       0.222222   \n",
       "4996              0.10           0.735185                       0.333333   \n",
       "4997              0.20           0.679630                       0.111111   \n",
       "4998              0.30           0.425926                       0.000000   \n",
       "4999              0.80           0.464815                       0.000000   \n",
       "\n",
       "      churned  \n",
       "0         0.0  \n",
       "1         0.0  \n",
       "2         0.0  \n",
       "3         0.0  \n",
       "4         0.0  \n",
       "...       ...  \n",
       "4995      0.0  \n",
       "4996      1.0  \n",
       "4997      0.0  \n",
       "4998      0.0  \n",
       "4999      0.0  \n",
       "\n",
       "[5000 rows x 18 columns]"
      ]
     },
     "execution_count": 19,
     "metadata": {},
     "output_type": "execute_result"
    }
   ],
   "source": [
    "from sklearn.preprocessing import StandardScaler\n",
    "StdSc=StandardScaler()\n",
    "for i in ['intl_plan','voice_mail_plan','churned']:\n",
    "    data[i]=data[i].transform(lambda x:1 if x=='yes'or x==True else (0 if x==False or x=='no' else x))\n",
    "#scaled=StdSc.fit(data)\n",
    "#data_scaled=scaled.transform(data)\n",
    "#data=pd.DataFrame(data_scaled,columns=data.columns)\n",
    "#data.head()\n",
    "from sklearn.preprocessing import MinMaxScaler\n",
    "\n",
    "msc = MinMaxScaler()\n",
    "\n",
    "data = pd.DataFrame(msc.fit_transform(data),  # this is an np.array, not a dataframe.\n",
    "                    columns=data.columns)\n",
    "data"
   ]
  },
  {
   "cell_type": "markdown",
   "metadata": {},
   "source": [
    "# Output 2\n",
    "* Converting categorical data using transform columns:'intl_plan','voice_mail_plan','churned'.\n",
    "* Used Minmax Scaler to scale the remaining data columns."
   ]
  },
  {
   "cell_type": "markdown",
   "metadata": {},
   "source": [
    "# R & D\n",
    "* why MiniMaxScaler? why not others?\n",
    "* How is it imp? \n",
    "* where is it used?"
   ]
  },
  {
   "cell_type": "markdown",
   "metadata": {},
   "source": [
    "# knn Prediction\n",
    "* Separate the feature columns (everything except churned) from the label (churned). This will create two tables.\n",
    "* Fit a K-nearest neighbors model with a value of k=3 to this data and predict the outcome on the same data."
   ]
  },
  {
   "cell_type": "markdown",
   "metadata": {},
   "source": [
    "# preprocessing\n",
    "* assigning X_data and Y_data\n",
    "* Predicted target data"
   ]
  },
  {
   "cell_type": "code",
   "execution_count": 24,
   "metadata": {},
   "outputs": [],
   "source": [
    "X=[i for i in data.columns if i!='churned']\n",
    "X_data=data[X]\n",
    "Y_data=data['churned']"
   ]
  },
  {
   "cell_type": "markdown",
   "metadata": {},
   "source": [
    "# Train and Test data\n",
    "* splitting the data into train and test data"
   ]
  },
  {
   "cell_type": "code",
   "execution_count": 25,
   "metadata": {},
   "outputs": [],
   "source": [
    "from sklearn.model_selection import train_test_split\n",
    "X=[i for i in data.columns if i!='churned']\n",
    "X_data=data[X]\n",
    "Y_data=data['churned']\n"
   ]
  },
  {
   "cell_type": "markdown",
   "metadata": {},
   "source": [
    "# Model and Predict dataset\n",
    "* using knn classifier"
   ]
  },
  {
   "cell_type": "code",
   "execution_count": 27,
   "metadata": {},
   "outputs": [
    {
     "data": {
      "text/plain": [
       "array([0.])"
      ]
     },
     "execution_count": 27,
     "metadata": {},
     "output_type": "execute_result"
    }
   ],
   "source": [
    "from sklearn.neighbors import KNeighborsClassifier\n",
    "knn = KNeighborsClassifier(n_neighbors = 3)\n",
    "# Fit the classifier to the data\n",
    "knn_model = knn.fit(X_data,Y_data)\n",
    "Y_modelpredict = knn.predict(X_data)\n",
    "\n",
    "#Y_test=knn.predict()\n",
    "# y_precti = knn.predict(x_new_data)\n",
    "# Y_modelpredict.find(1)\n",
    "x_new_data = X_data.iloc[[4996]]\n",
    "x_new_data\n",
    "churned_data_predict = knn_model.predict(X_data.iloc[[20]])\n",
    "churned_data_predict"
   ]
  },
  {
   "cell_type": "markdown",
   "metadata": {},
   "source": [
    "# Plotting the predicted data\n",
    "* plotting Y_predict data"
   ]
  },
  {
   "cell_type": "code",
   "execution_count": 28,
   "metadata": {},
   "outputs": [
    {
     "data": {
      "text/plain": [
       "<matplotlib.collections.PathCollection at 0x249530e66c8>"
      ]
     },
     "execution_count": 28,
     "metadata": {},
     "output_type": "execute_result"
    },
    {
     "data": {
      "image/png": "[encoded data removed]",
      "text/plain": [
       "<Figure size 432x288 with 1 Axes>"
      ]
     },
     "metadata": {
      "needs_background": "light"
     },
     "output_type": "display_data"
    }
   ],
   "source": [
    "import matplotlib.pyplot as plt\n",
    "%matplotlib inline\n",
    "\n",
    "import seaborn as sns\n",
    "a=plt.axes()\n",
    "a.scatter(X_data['account_length'][10],Y_data[10])\n",
    "# a.set(xlabel='YrSold',ylabel='Predicted data',title='predicted plot')\n",
    "# a.plot(X_data['account_length'],Y_modelpredict,linewidth=2)\n"
   ]
  },
  {
   "cell_type": "markdown",
   "metadata": {},
   "source": [
    "# Question 4\n",
    "* Ways to measure error haven't been discussed in class yet, but accuracy is an easy one to understand--it is simply the percent of labels that were correctly predicted (either true or false).\n",
    "\n",
    "* Write a function to calculate accuracy using the actual and predicted labels.\n",
    "* Using the function, calculate the accuracy of this K-nearest neighbors model on the data."
   ]
  },
  {
   "cell_type": "code",
   "execution_count": 29,
   "metadata": {},
   "outputs": [],
   "source": [
    "def accuracy(real, predict):\n",
    "    return sum(real == predict) / float(real.shape[0])"
   ]
  },
  {
   "cell_type": "code",
   "execution_count": 30,
   "metadata": {},
   "outputs": [
    {
     "ename": "NameError",
     "evalue": "name 'Y_test' is not defined",
     "output_type": "error",
     "traceback": [
      "\u001b[1;31m---------------------------------------------------------------------------\u001b[0m",
      "\u001b[1;31mNameError\u001b[0m                                 Traceback (most recent call last)",
      "\u001b[1;32m<ipython-input-30-a18bb6e32dc8>\u001b[0m in \u001b[0;36m<module>\u001b[1;34m\u001b[0m\n\u001b[1;32m----> 1\u001b[1;33m \u001b[0maccuracy\u001b[0m\u001b[1;33m(\u001b[0m\u001b[0mY_test\u001b[0m\u001b[1;33m,\u001b[0m\u001b[0mY_predict\u001b[0m\u001b[1;33m)\u001b[0m\u001b[1;33m\u001b[0m\u001b[1;33m\u001b[0m\u001b[0m\n\u001b[0m\u001b[0;32m      2\u001b[0m \u001b[0mfloat\u001b[0m\u001b[1;33m(\u001b[0m\u001b[0mY_test\u001b[0m\u001b[1;33m.\u001b[0m\u001b[0mshape\u001b[0m\u001b[1;33m[\u001b[0m\u001b[1;36m0\u001b[0m\u001b[1;33m]\u001b[0m\u001b[1;33m)\u001b[0m\u001b[1;33m\u001b[0m\u001b[1;33m\u001b[0m\u001b[0m\n",
      "\u001b[1;31mNameError\u001b[0m: name 'Y_test' is not defined"
     ]
    }
   ],
   "source": [
    "accuracy(Y_test,Y_predict)\n",
    "float(Y_test.shape[0])"
   ]
  },
  {
   "cell_type": "markdown",
   "metadata": {},
   "source": [
    "# Output - actual vs predicted\n",
    "* accuracy btween y test data y predict : **0.89333**"
   ]
  },
  {
   "cell_type": "code",
   "execution_count": 31,
   "metadata": {},
   "outputs": [
    {
     "data": {
      "text/plain": [
       "0.9422"
      ]
     },
     "execution_count": 31,
     "metadata": {},
     "output_type": "execute_result"
    }
   ],
   "source": [
    "accuracy(Y_data,Y_modelpredict)"
   ]
  },
  {
   "cell_type": "markdown",
   "metadata": {},
   "source": [
    "# Output - knn model\n",
    "* accuracy btween y data and y modelpredict : **0.9422**"
   ]
  },
  {
   "cell_type": "markdown",
   "metadata": {},
   "source": [
    "## Question 5\n",
    "\n",
    "* Fit the K-nearest neighbors model again with `n_neighbors=3` but this time use distance for the weights. Calculate the accuracy using the function you created above. \n",
    "* Fit another K-nearest neighbors model. This time use uniform weights but set the power parameter for the Minkowski distance metric to be 1 (`p=1`) i.e. Manhattan Distance.\n",
    "\n",
    "When weighted distances are used for part 1 of this question, a value of 1.0 should be returned for the accuracy. Why do you think this is? *Hint:* we are predicting on the data and with KNN the model *is* the data. We will learn how to avoid this pitfall in the next lecture."
   ]
  },
  {
   "cell_type": "markdown",
   "metadata": {},
   "source": [
    "# Part 1"
   ]
  },
  {
   "cell_type": "markdown",
   "metadata": {},
   "source": [
    "# Model and Predict dataset \n",
    "* using knn classifier"
   ]
  },
  {
   "cell_type": "code",
   "execution_count": 32,
   "metadata": {},
   "outputs": [],
   "source": [
    "from sklearn.neighbors import KNeighborsClassifier\n",
    "knn = KNeighborsClassifier(n_neighbors = 3,weights='distance')\n",
    "# Fit the classifier to the data\n",
    "knn.fit(X_data,Y_data)\n",
    "Y_modelpredict = knn.predict(X_data)\n"
   ]
  },
  {
   "cell_type": "markdown",
   "metadata": {},
   "source": [
    "# Plotting the predicted data\n",
    "* plotting Y_predict data"
   ]
  },
  {
   "cell_type": "code",
   "execution_count": 33,
   "metadata": {},
   "outputs": [
    {
     "data": {
      "text/plain": [
       "[<matplotlib.lines.Line2D at 0x249531d1e88>]"
      ]
     },
     "execution_count": 33,
     "metadata": {},
     "output_type": "execute_result"
    },
    {
     "data": {
      "image/png": "[encoded data removed]",
      "text/plain": [
       "<Figure size 432x288 with 1 Axes>"
      ]
     },
     "metadata": {
      "needs_background": "light"
     },
     "output_type": "display_data"
    }
   ],
   "source": [
    "import matplotlib.pyplot as plt\n",
    "%matplotlib inline\n",
    "\n",
    "import seaborn as sns\n",
    "a=plt.axes()\n",
    "a.scatter(X_data['account_length'],Y_data)\n",
    "# a.set(xlabel='YrSold',ylabel='Predicted data',title='predicted plot')\n",
    "a.plot(X_data['account_length'],Y_modelpredict,linewidth=2)\n"
   ]
  },
  {
   "cell_type": "code",
   "execution_count": 34,
   "metadata": {},
   "outputs": [
    {
     "data": {
      "text/plain": [
       "1.0"
      ]
     },
     "execution_count": 34,
     "metadata": {},
     "output_type": "execute_result"
    }
   ],
   "source": [
    "accuracy(Y_data,Y_modelpredict)"
   ]
  },
  {
   "cell_type": "markdown",
   "metadata": {},
   "source": [
    "# output\n",
    "* accuracy is 1,K-nearest neighbors model again with n_neighbors=3 but this time use distance for the weights. Calculate the accuracy using the function you created above."
   ]
  },
  {
   "cell_type": "markdown",
   "metadata": {},
   "source": [
    "# Part 2"
   ]
  },
  {
   "cell_type": "markdown",
   "metadata": {},
   "source": [
    "# model predict accuracy\n",
    "*  using knn classifier"
   ]
  },
  {
   "cell_type": "code",
   "execution_count": 35,
   "metadata": {},
   "outputs": [
    {
     "data": {
      "text/plain": [
       "0.9456"
      ]
     },
     "execution_count": 35,
     "metadata": {},
     "output_type": "execute_result"
    }
   ],
   "source": [
    "from sklearn.neighbors import KNeighborsClassifier\n",
    "knn = KNeighborsClassifier(n_neighbors = 3,weights='uniform',p=1)\n",
    "# Fit the classifier to the data\n",
    "knn.fit(X_data,Y_data)\n",
    "Y_modelpredict = knn.predict(X_data)\n",
    "accuracy(Y_data,Y_modelpredict)"
   ]
  },
  {
   "cell_type": "markdown",
   "metadata": {},
   "source": [
    "# output\n",
    "accuracy is 0.9456 . i.e minoswki distance"
   ]
  },
  {
   "cell_type": "markdown",
   "metadata": {},
   "source": [
    "# R & D\n",
    "* why minoswki? p=1?\n",
    "* why uniform vs distance?\n",
    "* why knn=3?\n"
   ]
  },
  {
   "cell_type": "markdown",
   "metadata": {},
   "source": [
    "## Question 6\n",
    "\n",
    "* Fit a K-nearest neighbors model using values of `k` (`n_neighbors`) ranging from 1 to 20. Use uniform weights (the default). The coefficient for the Minkowski distance (`p`) can be set to either 1 or 2--just be consistent. Store the accuracy and the value of `k` used from each of these fits in a list or dictionary.\n",
    "* Plot (or view the table of) the `accuracy` vs `k`. What do you notice happens when `k=1`? Why do you think this is? *Hint:* it's for the same reason discussed above."
   ]
  },
  {
   "cell_type": "code",
   "execution_count": 36,
   "metadata": {},
   "outputs": [],
   "source": [
    "from sklearn.neighbors import KNeighborsClassifier\n",
    "d={}\n",
    "l=[]\n",
    "for i in range(1,21):\n",
    "    knn = KNeighborsClassifier(n_neighbors = i,weights='uniform',p=1)\n",
    "# Fit the classifier to the data\n",
    "    knn.fit(X_data,Y_data)\n",
    "    Y_modelpredict = knn.predict(X_data)\n",
    "    l.append(accuracy(Y_data,Y_modelpredict))\n",
    "d['accuracy']=l\n",
    "d['k']=list(range(1,21))\n"
   ]
  },
  {
   "cell_type": "code",
   "execution_count": null,
   "metadata": {},
   "outputs": [],
   "source": [
    "df=pd.DataFrame.from_dict(d)"
   ]
  },
  {
   "cell_type": "markdown",
   "metadata": {},
   "source": [
    "# part 2\n",
    "* plot of accuracy vs k"
   ]
  },
  {
   "cell_type": "code",
   "execution_count": null,
   "metadata": {},
   "outputs": [],
   "source": [
    "import matplotlib.pyplot as plt\n",
    "%matplotlib inline\n",
    "\n",
    "a=plt.axes()\n",
    "a.scatter(df['k'],df['accuracy'])\n",
    "a.set(xlabel='k',ylabel='accuracy',title='accuracy vs k plot')\n"
   ]
  },
  {
   "cell_type": "markdown",
   "metadata": {},
   "source": [
    "# output\n",
    "plot decreasing accuracy on increasing k value"
   ]
  },
  {
   "cell_type": "markdown",
   "metadata": {},
   "source": [
    "# R & D\n",
    "* why accuracy is decreasing?\n",
    "* why k=1?\n",
    "* why even k low ? odd high in graph?"
   ]
  }
 ],
 "metadata": {
  "kernelspec": {
   "display_name": "Python 3",
   "language": "python",
   "name": "python3"
  },
  "language_info": {
   "codemirror_mode": {
    "name": "ipython",
    "version": 3
   },
   "file_extension": ".py",
   "mimetype": "text/x-python",
   "name": "python",
   "nbconvert_exporter": "python",
   "pygments_lexer": "ipython3",
   "version": "3.7.6"
  }
 },
 "nbformat": 4,
 "nbformat_minor": 4
}
